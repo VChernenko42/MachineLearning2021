{
 "cells": [
  {
   "cell_type": "markdown",
   "id": "15901384-d681-4494-8416-35a5e6f08773",
   "metadata": {},
   "source": [
    "# Лабораторная работа 1"
   ]
  },
  {
   "cell_type": "code",
   "execution_count": 1,
   "id": "d49f31db-f597-4819-ae13-f1ec3a18c004",
   "metadata": {},
   "outputs": [],
   "source": [
    "# Подключение нужных модулей\n",
    "import numpy as np              \n",
    "import matplotlib.pyplot as plt \n",
    "import pandas as pd\n",
    "import os\n",
    "from pandas.plotting import scatter_matrix\n",
    "import seaborn as sns\n",
    "import sklearn\n",
    "%matplotlib inline\n",
    "from sklearn.preprocessing import StandardScaler\n",
    "from sklearn.model_selection import train_test_split\n",
    "from sklearn.neighbors import KNeighborsClassifier\n",
    "from sklearn.metrics import confusion_matrix"
   ]
  },
  {
   "cell_type": "markdown",
   "id": "601c8afb-2dc8-4d71-b3a4-49c80e9b40a9",
   "metadata": {
    "tags": []
   },
   "source": [
    "## Загружаем данные космических наблюдений:\n",
    "Данные состоят из 10 000 наблюдений за космосом, сделанных SDSS. Каждое наблюдение описывается 17 столбцами характеристик и 1 столбцом класса, который определяет, что это звезда, галактика или квазар."
   ]
  },
  {
   "cell_type": "code",
   "execution_count": 2,
   "id": "c8f83d79-6185-4cc8-a16c-48e71945a09a",
   "metadata": {
    "tags": []
   },
   "outputs": [],
   "source": [
    "# Чтение csv файла\n",
    "data = pd.read_csv(\"./SloanDigitalSkySurvey.csv\")"
   ]
  },
  {
   "cell_type": "code",
   "execution_count": 3,
   "id": "f2d9f056-883e-4d19-88e1-1bb554c23acb",
   "metadata": {},
   "outputs": [
    {
     "data": {
      "text/plain": [
       "(10000, 18)"
      ]
     },
     "execution_count": 3,
     "metadata": {},
     "output_type": "execute_result"
    }
   ],
   "source": [
    "# Размерность таблицы\n",
    "data.shape"
   ]
  },
  {
   "cell_type": "code",
   "execution_count": 4,
   "id": "fc30e0a7-9d3f-4b75-b2fb-0aae15235d95",
   "metadata": {},
   "outputs": [
    {
     "data": {
      "text/plain": [
       "Index(['objid', 'ra', 'dec', 'u', 'g', 'r', 'i', 'z', 'run', 'rerun', 'camcol',\n",
       "       'field', 'specobjid', 'class', 'redshift', 'plate', 'mjd', 'fiberid'],\n",
       "      dtype='object')"
      ]
     },
     "execution_count": 4,
     "metadata": {},
     "output_type": "execute_result"
    }
   ],
   "source": [
    "# Все признаки\n",
    "data.columns"
   ]
  },
  {
   "cell_type": "code",
   "execution_count": 5,
   "id": "c69fe308-5463-4238-a88a-7ec85d7edfb8",
   "metadata": {},
   "outputs": [
    {
     "data": {
      "text/html": [
       "<div>\n",
       "<style scoped>\n",
       "    .dataframe tbody tr th:only-of-type {\n",
       "        vertical-align: middle;\n",
       "    }\n",
       "\n",
       "    .dataframe tbody tr th {\n",
       "        vertical-align: top;\n",
       "    }\n",
       "\n",
       "    .dataframe thead th {\n",
       "        text-align: right;\n",
       "    }\n",
       "</style>\n",
       "<table border=\"1\" class=\"dataframe\">\n",
       "  <thead>\n",
       "    <tr style=\"text-align: right;\">\n",
       "      <th></th>\n",
       "      <th>objid</th>\n",
       "      <th>ra</th>\n",
       "      <th>dec</th>\n",
       "      <th>u</th>\n",
       "      <th>g</th>\n",
       "      <th>r</th>\n",
       "      <th>i</th>\n",
       "      <th>z</th>\n",
       "      <th>run</th>\n",
       "      <th>rerun</th>\n",
       "      <th>camcol</th>\n",
       "      <th>field</th>\n",
       "      <th>specobjid</th>\n",
       "      <th>class</th>\n",
       "      <th>redshift</th>\n",
       "      <th>plate</th>\n",
       "      <th>mjd</th>\n",
       "      <th>fiberid</th>\n",
       "    </tr>\n",
       "  </thead>\n",
       "  <tbody>\n",
       "    <tr>\n",
       "      <th>0</th>\n",
       "      <td>1.237650e+18</td>\n",
       "      <td>183.531326</td>\n",
       "      <td>0.089693</td>\n",
       "      <td>19.47406</td>\n",
       "      <td>17.04240</td>\n",
       "      <td>15.94699</td>\n",
       "      <td>15.50342</td>\n",
       "      <td>15.22531</td>\n",
       "      <td>752</td>\n",
       "      <td>301</td>\n",
       "      <td>4</td>\n",
       "      <td>267</td>\n",
       "      <td>3.722360e+18</td>\n",
       "      <td>STAR</td>\n",
       "      <td>-0.000009</td>\n",
       "      <td>3306</td>\n",
       "      <td>54922</td>\n",
       "      <td>491</td>\n",
       "    </tr>\n",
       "    <tr>\n",
       "      <th>1</th>\n",
       "      <td>1.237650e+18</td>\n",
       "      <td>183.598370</td>\n",
       "      <td>0.135285</td>\n",
       "      <td>18.66280</td>\n",
       "      <td>17.21449</td>\n",
       "      <td>16.67637</td>\n",
       "      <td>16.48922</td>\n",
       "      <td>16.39150</td>\n",
       "      <td>752</td>\n",
       "      <td>301</td>\n",
       "      <td>4</td>\n",
       "      <td>267</td>\n",
       "      <td>3.638140e+17</td>\n",
       "      <td>STAR</td>\n",
       "      <td>-0.000055</td>\n",
       "      <td>323</td>\n",
       "      <td>51615</td>\n",
       "      <td>541</td>\n",
       "    </tr>\n",
       "    <tr>\n",
       "      <th>2</th>\n",
       "      <td>1.237650e+18</td>\n",
       "      <td>183.680207</td>\n",
       "      <td>0.126185</td>\n",
       "      <td>19.38298</td>\n",
       "      <td>18.19169</td>\n",
       "      <td>17.47428</td>\n",
       "      <td>17.08732</td>\n",
       "      <td>16.80125</td>\n",
       "      <td>752</td>\n",
       "      <td>301</td>\n",
       "      <td>4</td>\n",
       "      <td>268</td>\n",
       "      <td>3.232740e+17</td>\n",
       "      <td>GALAXY</td>\n",
       "      <td>0.123111</td>\n",
       "      <td>287</td>\n",
       "      <td>52023</td>\n",
       "      <td>513</td>\n",
       "    </tr>\n",
       "    <tr>\n",
       "      <th>3</th>\n",
       "      <td>1.237650e+18</td>\n",
       "      <td>183.870529</td>\n",
       "      <td>0.049911</td>\n",
       "      <td>17.76536</td>\n",
       "      <td>16.60272</td>\n",
       "      <td>16.16116</td>\n",
       "      <td>15.98233</td>\n",
       "      <td>15.90438</td>\n",
       "      <td>752</td>\n",
       "      <td>301</td>\n",
       "      <td>4</td>\n",
       "      <td>269</td>\n",
       "      <td>3.722370e+18</td>\n",
       "      <td>STAR</td>\n",
       "      <td>-0.000111</td>\n",
       "      <td>3306</td>\n",
       "      <td>54922</td>\n",
       "      <td>510</td>\n",
       "    </tr>\n",
       "    <tr>\n",
       "      <th>4</th>\n",
       "      <td>1.237650e+18</td>\n",
       "      <td>183.883288</td>\n",
       "      <td>0.102557</td>\n",
       "      <td>17.55025</td>\n",
       "      <td>16.26342</td>\n",
       "      <td>16.43869</td>\n",
       "      <td>16.55492</td>\n",
       "      <td>16.61326</td>\n",
       "      <td>752</td>\n",
       "      <td>301</td>\n",
       "      <td>4</td>\n",
       "      <td>269</td>\n",
       "      <td>3.722370e+18</td>\n",
       "      <td>STAR</td>\n",
       "      <td>0.000590</td>\n",
       "      <td>3306</td>\n",
       "      <td>54922</td>\n",
       "      <td>512</td>\n",
       "    </tr>\n",
       "  </tbody>\n",
       "</table>\n",
       "</div>"
      ],
      "text/plain": [
       "          objid          ra       dec         u         g         r         i  \\\n",
       "0  1.237650e+18  183.531326  0.089693  19.47406  17.04240  15.94699  15.50342   \n",
       "1  1.237650e+18  183.598370  0.135285  18.66280  17.21449  16.67637  16.48922   \n",
       "2  1.237650e+18  183.680207  0.126185  19.38298  18.19169  17.47428  17.08732   \n",
       "3  1.237650e+18  183.870529  0.049911  17.76536  16.60272  16.16116  15.98233   \n",
       "4  1.237650e+18  183.883288  0.102557  17.55025  16.26342  16.43869  16.55492   \n",
       "\n",
       "          z  run  rerun  camcol  field     specobjid   class  redshift  plate  \\\n",
       "0  15.22531  752    301       4    267  3.722360e+18    STAR -0.000009   3306   \n",
       "1  16.39150  752    301       4    267  3.638140e+17    STAR -0.000055    323   \n",
       "2  16.80125  752    301       4    268  3.232740e+17  GALAXY  0.123111    287   \n",
       "3  15.90438  752    301       4    269  3.722370e+18    STAR -0.000111   3306   \n",
       "4  16.61326  752    301       4    269  3.722370e+18    STAR  0.000590   3306   \n",
       "\n",
       "     mjd  fiberid  \n",
       "0  54922      491  \n",
       "1  51615      541  \n",
       "2  52023      513  \n",
       "3  54922      510  \n",
       "4  54922      512  "
      ]
     },
     "execution_count": 5,
     "metadata": {},
     "output_type": "execute_result"
    }
   ],
   "source": [
    "data.head()"
   ]
  },
  {
   "cell_type": "code",
   "execution_count": 6,
   "id": "798e0cf1-6641-43d1-bd7c-6f9730b0803d",
   "metadata": {},
   "outputs": [
    {
     "data": {
      "text/html": [
       "<div>\n",
       "<style scoped>\n",
       "    .dataframe tbody tr th:only-of-type {\n",
       "        vertical-align: middle;\n",
       "    }\n",
       "\n",
       "    .dataframe tbody tr th {\n",
       "        vertical-align: top;\n",
       "    }\n",
       "\n",
       "    .dataframe thead th {\n",
       "        text-align: right;\n",
       "    }\n",
       "</style>\n",
       "<table border=\"1\" class=\"dataframe\">\n",
       "  <thead>\n",
       "    <tr style=\"text-align: right;\">\n",
       "      <th></th>\n",
       "      <th>objid</th>\n",
       "      <th>ra</th>\n",
       "      <th>dec</th>\n",
       "      <th>u</th>\n",
       "      <th>g</th>\n",
       "      <th>r</th>\n",
       "      <th>i</th>\n",
       "      <th>z</th>\n",
       "      <th>run</th>\n",
       "      <th>rerun</th>\n",
       "      <th>camcol</th>\n",
       "      <th>field</th>\n",
       "      <th>specobjid</th>\n",
       "      <th>class</th>\n",
       "      <th>redshift</th>\n",
       "      <th>plate</th>\n",
       "      <th>mjd</th>\n",
       "      <th>fiberid</th>\n",
       "    </tr>\n",
       "  </thead>\n",
       "  <tbody>\n",
       "    <tr>\n",
       "      <th>9995</th>\n",
       "      <td>1.237650e+18</td>\n",
       "      <td>131.316413</td>\n",
       "      <td>51.539547</td>\n",
       "      <td>18.81777</td>\n",
       "      <td>17.47053</td>\n",
       "      <td>16.91508</td>\n",
       "      <td>16.68305</td>\n",
       "      <td>16.50570</td>\n",
       "      <td>1345</td>\n",
       "      <td>301</td>\n",
       "      <td>3</td>\n",
       "      <td>161</td>\n",
       "      <td>5.033450e+17</td>\n",
       "      <td>GALAXY</td>\n",
       "      <td>0.027583</td>\n",
       "      <td>447</td>\n",
       "      <td>51877</td>\n",
       "      <td>246</td>\n",
       "    </tr>\n",
       "    <tr>\n",
       "      <th>9996</th>\n",
       "      <td>1.237650e+18</td>\n",
       "      <td>131.306083</td>\n",
       "      <td>51.671341</td>\n",
       "      <td>18.27255</td>\n",
       "      <td>17.43849</td>\n",
       "      <td>17.07692</td>\n",
       "      <td>16.71661</td>\n",
       "      <td>16.69897</td>\n",
       "      <td>1345</td>\n",
       "      <td>301</td>\n",
       "      <td>3</td>\n",
       "      <td>162</td>\n",
       "      <td>5.033400e+17</td>\n",
       "      <td>GALAXY</td>\n",
       "      <td>0.117772</td>\n",
       "      <td>447</td>\n",
       "      <td>51877</td>\n",
       "      <td>228</td>\n",
       "    </tr>\n",
       "    <tr>\n",
       "      <th>9997</th>\n",
       "      <td>1.237650e+18</td>\n",
       "      <td>131.552562</td>\n",
       "      <td>51.666986</td>\n",
       "      <td>18.75818</td>\n",
       "      <td>17.77784</td>\n",
       "      <td>17.51872</td>\n",
       "      <td>17.43302</td>\n",
       "      <td>17.42048</td>\n",
       "      <td>1345</td>\n",
       "      <td>301</td>\n",
       "      <td>3</td>\n",
       "      <td>162</td>\n",
       "      <td>8.222620e+18</td>\n",
       "      <td>STAR</td>\n",
       "      <td>-0.000402</td>\n",
       "      <td>7303</td>\n",
       "      <td>57013</td>\n",
       "      <td>622</td>\n",
       "    </tr>\n",
       "    <tr>\n",
       "      <th>9998</th>\n",
       "      <td>1.237650e+18</td>\n",
       "      <td>131.477151</td>\n",
       "      <td>51.753068</td>\n",
       "      <td>18.88287</td>\n",
       "      <td>17.91068</td>\n",
       "      <td>17.53152</td>\n",
       "      <td>17.36284</td>\n",
       "      <td>17.13988</td>\n",
       "      <td>1345</td>\n",
       "      <td>301</td>\n",
       "      <td>3</td>\n",
       "      <td>163</td>\n",
       "      <td>5.033400e+17</td>\n",
       "      <td>GALAXY</td>\n",
       "      <td>0.014019</td>\n",
       "      <td>447</td>\n",
       "      <td>51877</td>\n",
       "      <td>229</td>\n",
       "    </tr>\n",
       "    <tr>\n",
       "      <th>9999</th>\n",
       "      <td>1.237650e+18</td>\n",
       "      <td>131.665012</td>\n",
       "      <td>51.805307</td>\n",
       "      <td>19.27586</td>\n",
       "      <td>17.37829</td>\n",
       "      <td>16.30542</td>\n",
       "      <td>15.83548</td>\n",
       "      <td>15.50588</td>\n",
       "      <td>1345</td>\n",
       "      <td>301</td>\n",
       "      <td>3</td>\n",
       "      <td>163</td>\n",
       "      <td>5.033410e+17</td>\n",
       "      <td>GALAXY</td>\n",
       "      <td>0.118417</td>\n",
       "      <td>447</td>\n",
       "      <td>51877</td>\n",
       "      <td>233</td>\n",
       "    </tr>\n",
       "  </tbody>\n",
       "</table>\n",
       "</div>"
      ],
      "text/plain": [
       "             objid          ra        dec         u         g         r  \\\n",
       "9995  1.237650e+18  131.316413  51.539547  18.81777  17.47053  16.91508   \n",
       "9996  1.237650e+18  131.306083  51.671341  18.27255  17.43849  17.07692   \n",
       "9997  1.237650e+18  131.552562  51.666986  18.75818  17.77784  17.51872   \n",
       "9998  1.237650e+18  131.477151  51.753068  18.88287  17.91068  17.53152   \n",
       "9999  1.237650e+18  131.665012  51.805307  19.27586  17.37829  16.30542   \n",
       "\n",
       "             i         z   run  rerun  camcol  field     specobjid   class  \\\n",
       "9995  16.68305  16.50570  1345    301       3    161  5.033450e+17  GALAXY   \n",
       "9996  16.71661  16.69897  1345    301       3    162  5.033400e+17  GALAXY   \n",
       "9997  17.43302  17.42048  1345    301       3    162  8.222620e+18    STAR   \n",
       "9998  17.36284  17.13988  1345    301       3    163  5.033400e+17  GALAXY   \n",
       "9999  15.83548  15.50588  1345    301       3    163  5.033410e+17  GALAXY   \n",
       "\n",
       "      redshift  plate    mjd  fiberid  \n",
       "9995  0.027583    447  51877      246  \n",
       "9996  0.117772    447  51877      228  \n",
       "9997 -0.000402   7303  57013      622  \n",
       "9998  0.014019    447  51877      229  \n",
       "9999  0.118417    447  51877      233  "
      ]
     },
     "execution_count": 6,
     "metadata": {},
     "output_type": "execute_result"
    }
   ],
   "source": [
    "data.tail()"
   ]
  },
  {
   "cell_type": "code",
   "execution_count": 7,
   "id": "77002977-60d2-47b9-a4ad-83132166e385",
   "metadata": {},
   "outputs": [
    {
     "data": {
      "text/html": [
       "<div>\n",
       "<style scoped>\n",
       "    .dataframe tbody tr th:only-of-type {\n",
       "        vertical-align: middle;\n",
       "    }\n",
       "\n",
       "    .dataframe tbody tr th {\n",
       "        vertical-align: top;\n",
       "    }\n",
       "\n",
       "    .dataframe thead th {\n",
       "        text-align: right;\n",
       "    }\n",
       "</style>\n",
       "<table border=\"1\" class=\"dataframe\">\n",
       "  <thead>\n",
       "    <tr style=\"text-align: right;\">\n",
       "      <th></th>\n",
       "      <th>objid</th>\n",
       "      <th>ra</th>\n",
       "      <th>dec</th>\n",
       "      <th>u</th>\n",
       "      <th>g</th>\n",
       "      <th>r</th>\n",
       "      <th>i</th>\n",
       "      <th>z</th>\n",
       "      <th>run</th>\n",
       "      <th>rerun</th>\n",
       "      <th>camcol</th>\n",
       "      <th>field</th>\n",
       "      <th>specobjid</th>\n",
       "      <th>redshift</th>\n",
       "      <th>plate</th>\n",
       "      <th>mjd</th>\n",
       "      <th>fiberid</th>\n",
       "    </tr>\n",
       "  </thead>\n",
       "  <tbody>\n",
       "    <tr>\n",
       "      <th>count</th>\n",
       "      <td>1.000000e+04</td>\n",
       "      <td>10000.000000</td>\n",
       "      <td>10000.000000</td>\n",
       "      <td>10000.000000</td>\n",
       "      <td>10000.000000</td>\n",
       "      <td>10000.000000</td>\n",
       "      <td>10000.000000</td>\n",
       "      <td>10000.000000</td>\n",
       "      <td>10000.000000</td>\n",
       "      <td>10000.0</td>\n",
       "      <td>10000.000000</td>\n",
       "      <td>10000.000000</td>\n",
       "      <td>1.000000e+04</td>\n",
       "      <td>10000.000000</td>\n",
       "      <td>10000.000000</td>\n",
       "      <td>10000.000000</td>\n",
       "      <td>10000.000000</td>\n",
       "    </tr>\n",
       "    <tr>\n",
       "      <th>mean</th>\n",
       "      <td>1.237650e+18</td>\n",
       "      <td>175.529987</td>\n",
       "      <td>14.836148</td>\n",
       "      <td>18.619355</td>\n",
       "      <td>17.371931</td>\n",
       "      <td>16.840963</td>\n",
       "      <td>16.583579</td>\n",
       "      <td>16.422833</td>\n",
       "      <td>981.034800</td>\n",
       "      <td>301.0</td>\n",
       "      <td>3.648700</td>\n",
       "      <td>302.380100</td>\n",
       "      <td>1.645022e+18</td>\n",
       "      <td>0.143726</td>\n",
       "      <td>1460.986400</td>\n",
       "      <td>52943.533300</td>\n",
       "      <td>353.069400</td>\n",
       "    </tr>\n",
       "    <tr>\n",
       "      <th>std</th>\n",
       "      <td>0.000000e+00</td>\n",
       "      <td>47.783439</td>\n",
       "      <td>25.212207</td>\n",
       "      <td>0.828656</td>\n",
       "      <td>0.945457</td>\n",
       "      <td>1.067764</td>\n",
       "      <td>1.141805</td>\n",
       "      <td>1.203188</td>\n",
       "      <td>273.305024</td>\n",
       "      <td>0.0</td>\n",
       "      <td>1.666183</td>\n",
       "      <td>162.577763</td>\n",
       "      <td>2.013998e+18</td>\n",
       "      <td>0.388774</td>\n",
       "      <td>1788.778371</td>\n",
       "      <td>1511.150651</td>\n",
       "      <td>206.298149</td>\n",
       "    </tr>\n",
       "    <tr>\n",
       "      <th>min</th>\n",
       "      <td>1.237650e+18</td>\n",
       "      <td>8.235100</td>\n",
       "      <td>-5.382632</td>\n",
       "      <td>12.988970</td>\n",
       "      <td>12.799550</td>\n",
       "      <td>12.431600</td>\n",
       "      <td>11.947210</td>\n",
       "      <td>11.610410</td>\n",
       "      <td>308.000000</td>\n",
       "      <td>301.0</td>\n",
       "      <td>1.000000</td>\n",
       "      <td>11.000000</td>\n",
       "      <td>2.995780e+17</td>\n",
       "      <td>-0.004136</td>\n",
       "      <td>266.000000</td>\n",
       "      <td>51578.000000</td>\n",
       "      <td>1.000000</td>\n",
       "    </tr>\n",
       "    <tr>\n",
       "      <th>25%</th>\n",
       "      <td>1.237650e+18</td>\n",
       "      <td>157.370946</td>\n",
       "      <td>-0.539035</td>\n",
       "      <td>18.178035</td>\n",
       "      <td>16.815100</td>\n",
       "      <td>16.173333</td>\n",
       "      <td>15.853705</td>\n",
       "      <td>15.618285</td>\n",
       "      <td>752.000000</td>\n",
       "      <td>301.0</td>\n",
       "      <td>2.000000</td>\n",
       "      <td>184.000000</td>\n",
       "      <td>3.389248e+17</td>\n",
       "      <td>0.000081</td>\n",
       "      <td>301.000000</td>\n",
       "      <td>51900.000000</td>\n",
       "      <td>186.750000</td>\n",
       "    </tr>\n",
       "    <tr>\n",
       "      <th>50%</th>\n",
       "      <td>1.237650e+18</td>\n",
       "      <td>180.394514</td>\n",
       "      <td>0.404166</td>\n",
       "      <td>18.853095</td>\n",
       "      <td>17.495135</td>\n",
       "      <td>16.858770</td>\n",
       "      <td>16.554985</td>\n",
       "      <td>16.389945</td>\n",
       "      <td>756.000000</td>\n",
       "      <td>301.0</td>\n",
       "      <td>4.000000</td>\n",
       "      <td>299.000000</td>\n",
       "      <td>4.966580e+17</td>\n",
       "      <td>0.042591</td>\n",
       "      <td>441.000000</td>\n",
       "      <td>51997.000000</td>\n",
       "      <td>351.000000</td>\n",
       "    </tr>\n",
       "    <tr>\n",
       "      <th>75%</th>\n",
       "      <td>1.237650e+18</td>\n",
       "      <td>201.547279</td>\n",
       "      <td>35.649397</td>\n",
       "      <td>19.259232</td>\n",
       "      <td>18.010145</td>\n",
       "      <td>17.512675</td>\n",
       "      <td>17.258550</td>\n",
       "      <td>17.141447</td>\n",
       "      <td>1331.000000</td>\n",
       "      <td>301.0</td>\n",
       "      <td>5.000000</td>\n",
       "      <td>414.000000</td>\n",
       "      <td>2.881300e+18</td>\n",
       "      <td>0.092579</td>\n",
       "      <td>2559.000000</td>\n",
       "      <td>54468.000000</td>\n",
       "      <td>510.000000</td>\n",
       "    </tr>\n",
       "    <tr>\n",
       "      <th>max</th>\n",
       "      <td>1.237650e+18</td>\n",
       "      <td>260.884382</td>\n",
       "      <td>68.542265</td>\n",
       "      <td>19.599900</td>\n",
       "      <td>19.918970</td>\n",
       "      <td>24.802040</td>\n",
       "      <td>28.179630</td>\n",
       "      <td>22.833060</td>\n",
       "      <td>1412.000000</td>\n",
       "      <td>301.0</td>\n",
       "      <td>6.000000</td>\n",
       "      <td>768.000000</td>\n",
       "      <td>9.468830e+18</td>\n",
       "      <td>5.353854</td>\n",
       "      <td>8410.000000</td>\n",
       "      <td>57481.000000</td>\n",
       "      <td>1000.000000</td>\n",
       "    </tr>\n",
       "  </tbody>\n",
       "</table>\n",
       "</div>"
      ],
      "text/plain": [
       "              objid            ra           dec             u             g  \\\n",
       "count  1.000000e+04  10000.000000  10000.000000  10000.000000  10000.000000   \n",
       "mean   1.237650e+18    175.529987     14.836148     18.619355     17.371931   \n",
       "std    0.000000e+00     47.783439     25.212207      0.828656      0.945457   \n",
       "min    1.237650e+18      8.235100     -5.382632     12.988970     12.799550   \n",
       "25%    1.237650e+18    157.370946     -0.539035     18.178035     16.815100   \n",
       "50%    1.237650e+18    180.394514      0.404166     18.853095     17.495135   \n",
       "75%    1.237650e+18    201.547279     35.649397     19.259232     18.010145   \n",
       "max    1.237650e+18    260.884382     68.542265     19.599900     19.918970   \n",
       "\n",
       "                  r             i             z           run    rerun  \\\n",
       "count  10000.000000  10000.000000  10000.000000  10000.000000  10000.0   \n",
       "mean      16.840963     16.583579     16.422833    981.034800    301.0   \n",
       "std        1.067764      1.141805      1.203188    273.305024      0.0   \n",
       "min       12.431600     11.947210     11.610410    308.000000    301.0   \n",
       "25%       16.173333     15.853705     15.618285    752.000000    301.0   \n",
       "50%       16.858770     16.554985     16.389945    756.000000    301.0   \n",
       "75%       17.512675     17.258550     17.141447   1331.000000    301.0   \n",
       "max       24.802040     28.179630     22.833060   1412.000000    301.0   \n",
       "\n",
       "             camcol         field     specobjid      redshift         plate  \\\n",
       "count  10000.000000  10000.000000  1.000000e+04  10000.000000  10000.000000   \n",
       "mean       3.648700    302.380100  1.645022e+18      0.143726   1460.986400   \n",
       "std        1.666183    162.577763  2.013998e+18      0.388774   1788.778371   \n",
       "min        1.000000     11.000000  2.995780e+17     -0.004136    266.000000   \n",
       "25%        2.000000    184.000000  3.389248e+17      0.000081    301.000000   \n",
       "50%        4.000000    299.000000  4.966580e+17      0.042591    441.000000   \n",
       "75%        5.000000    414.000000  2.881300e+18      0.092579   2559.000000   \n",
       "max        6.000000    768.000000  9.468830e+18      5.353854   8410.000000   \n",
       "\n",
       "                mjd       fiberid  \n",
       "count  10000.000000  10000.000000  \n",
       "mean   52943.533300    353.069400  \n",
       "std     1511.150651    206.298149  \n",
       "min    51578.000000      1.000000  \n",
       "25%    51900.000000    186.750000  \n",
       "50%    51997.000000    351.000000  \n",
       "75%    54468.000000    510.000000  \n",
       "max    57481.000000   1000.000000  "
      ]
     },
     "execution_count": 7,
     "metadata": {},
     "output_type": "execute_result"
    }
   ],
   "source": [
    "data.describe()"
   ]
  },
  {
   "cell_type": "markdown",
   "id": "c5942466-4679-4b00-a897-e1a20827cdd8",
   "metadata": {},
   "source": [
    "### Здесь присутсвуют следующие признаки:\n",
    "* objid = Идентификатор объекта.\n",
    "* ra = Прямое восхождени.\n",
    "* dec = Склонение.\n",
    "> Прямое восхождение (сокращенно RA) - это угловое расстояние, измеренное на восток вдоль небесного экватора от Солнца в мартовское равноденствие до часового круга точки над землей. В сочетании со склонением (сокращенно dec) эти астрономические координаты определяют направление точки на небесной сфере (традиционно называемой на английском языке небом или небом) в экваториальной системе координат.\n",
    "* u, g, r, i, z = Представляют отклик 5 диапазонов телескопа.\n",
    "* run = Номер запуска.\n",
    "* rereun = Номер повтора.\n",
    "* camcol = Столбец камеры.\n",
    "* field = Номер поля.\n",
    "> Это функции, которые описывают поле в изображении, полученном SDSS. Поле - это в основном часть всего изображения, соответствующая 2048 на 1489 пикселей.\n",
    "* specobjid = Идентификатор объекта.\n",
    "* class = Класс объекта, переменная ответа которую мы пытаемся предсказать (Галактика, Звезда или квазар).\n",
    "* redshift = Окончательно красное смещение.\n",
    "* пластина = Номерной знак.\n",
    "* mjd = MJD наблюдения.\n",
    "* fiberid = Идентификатор волокна."
   ]
  },
  {
   "cell_type": "code",
   "execution_count": 8,
   "id": "9fce932a-0771-4dd7-a1f4-d20588da5c02",
   "metadata": {},
   "outputs": [
    {
     "name": "stdout",
     "output_type": "stream",
     "text": [
      "<class 'pandas.core.frame.DataFrame'>\n",
      "RangeIndex: 10000 entries, 0 to 9999\n",
      "Data columns (total 18 columns):\n",
      " #   Column     Non-Null Count  Dtype  \n",
      "---  ------     --------------  -----  \n",
      " 0   objid      10000 non-null  float64\n",
      " 1   ra         10000 non-null  float64\n",
      " 2   dec        10000 non-null  float64\n",
      " 3   u          10000 non-null  float64\n",
      " 4   g          10000 non-null  float64\n",
      " 5   r          10000 non-null  float64\n",
      " 6   i          10000 non-null  float64\n",
      " 7   z          10000 non-null  float64\n",
      " 8   run        10000 non-null  int64  \n",
      " 9   rerun      10000 non-null  int64  \n",
      " 10  camcol     10000 non-null  int64  \n",
      " 11  field      10000 non-null  int64  \n",
      " 12  specobjid  10000 non-null  float64\n",
      " 13  class      10000 non-null  object \n",
      " 14  redshift   10000 non-null  float64\n",
      " 15  plate      10000 non-null  int64  \n",
      " 16  mjd        10000 non-null  int64  \n",
      " 17  fiberid    10000 non-null  int64  \n",
      "dtypes: float64(10), int64(7), object(1)\n",
      "memory usage: 1.4+ MB\n"
     ]
    }
   ],
   "source": [
    "data.info()"
   ]
  },
  {
   "cell_type": "markdown",
   "id": "54c029e2-ba68-4207-9a01-4c6dd8d04f96",
   "metadata": {},
   "source": [
    "### Распределение данных по классам:"
   ]
  },
  {
   "cell_type": "code",
   "execution_count": 9,
   "id": "a33a4514-b5db-4354-adec-ad59caf958f7",
   "metadata": {},
   "outputs": [
    {
     "name": "stdout",
     "output_type": "stream",
     "text": [
      "['STAR' 'GALAXY' 'QSO']\n"
     ]
    },
    {
     "data": {
      "text/plain": [
       "<AxesSubplot:xlabel='class', ylabel='count'>"
      ]
     },
     "execution_count": 9,
     "metadata": {},
     "output_type": "execute_result"
    },
    {
     "data": {
      "image/png": "[encoded data removed]",
      "text/plain": [
       "<Figure size 432x288 with 1 Axes>"
      ]
     },
     "metadata": {
      "needs_background": "light"
     },
     "output_type": "display_data"
    }
   ],
   "source": [
    "print(data['class'].unique())\n",
    "sns.countplot(x='class', data=data)"
   ]
  },
  {
   "cell_type": "code",
   "execution_count": 10,
   "id": "1ea6c2e3-bb94-4664-9bea-1b1082b182f7",
   "metadata": {},
   "outputs": [
    {
     "data": {
      "text/plain": [
       "<AxesSubplot:xlabel='camcol', ylabel='count'>"
      ]
     },
     "execution_count": 10,
     "metadata": {},
     "output_type": "execute_result"
    },
    {
     "data": {
      "image/png": "[encoded data removed]",
      "text/plain": [
       "<Figure size 432x288 with 1 Axes>"
      ]
     },
     "metadata": {
      "needs_background": "light"
     },
     "output_type": "display_data"
    }
   ],
   "source": [
    "sns.countplot(x='camcol', data=data)"
   ]
  },
  {
   "cell_type": "markdown",
   "id": "8fe0ad80-349d-420e-b165-e9cae3be3568",
   "metadata": {},
   "source": [
    "### Проверка на пропущенные значения:"
   ]
  },
  {
   "cell_type": "code",
   "execution_count": 11,
   "id": "8efa8c83-7934-4d87-a484-431812c5f444",
   "metadata": {},
   "outputs": [
    {
     "data": {
      "text/plain": [
       "objid        0\n",
       "ra           0\n",
       "dec          0\n",
       "u            0\n",
       "g            0\n",
       "r            0\n",
       "i            0\n",
       "z            0\n",
       "run          0\n",
       "rerun        0\n",
       "camcol       0\n",
       "field        0\n",
       "specobjid    0\n",
       "class        0\n",
       "redshift     0\n",
       "plate        0\n",
       "mjd          0\n",
       "fiberid      0\n",
       "dtype: int64"
      ]
     },
     "execution_count": 11,
     "metadata": {},
     "output_type": "execute_result"
    }
   ],
   "source": [
    "data.isna().sum()"
   ]
  },
  {
   "cell_type": "markdown",
   "id": "763ffeff-c0de-4b9c-a92a-d589e241eb95",
   "metadata": {},
   "source": [
    "### График зависимости класса от признака \"redshift\", а так же boxplot и pairplot:"
   ]
  },
  {
   "cell_type": "code",
   "execution_count": 12,
   "id": "2ae4ba83-d3ba-479a-83d8-08ea1e15d04a",
   "metadata": {},
   "outputs": [
    {
     "data": {
      "image/png": "[encoded data removed]",
      "text/plain": [
       "<Figure size 360x360 with 1 Axes>"
      ]
     },
     "metadata": {
      "needs_background": "light"
     },
     "output_type": "display_data"
    },
    {
     "data": {
      "image/png": "[encoded data removed]",
      "text/plain": [
       "<Figure size 360x360 with 1 Axes>"
      ]
     },
     "metadata": {
      "needs_background": "light"
     },
     "output_type": "display_data"
    },
    {
     "data": {
      "image/png": "[encoded data removed]",
      "text/plain": [
       "<Figure size 360x360 with 1 Axes>"
      ]
     },
     "metadata": {
      "needs_background": "light"
     },
     "output_type": "display_data"
    }
   ],
   "source": [
    "star = data[data['class']=='STAR']['redshift']\n",
    "galaxy = data[data['class']=='GALAXY']['redshift']\n",
    "quasar = data[data['class']=='QSO']['redshift']\n",
    "\n",
    "sns.displot(star)\n",
    "plt.title(\"Star\")\n",
    "sns.displot(galaxy)\n",
    "plt.title(\"Galaxy\")\n",
    "sns.displot(quasar)\n",
    "plt.title(\"Qso\")\n",
    "plt.show()"
   ]
  },
  {
   "cell_type": "code",
   "execution_count": 13,
   "id": "1b4c8418-3754-402e-9e22-ea5728c09552",
   "metadata": {
    "tags": []
   },
   "outputs": [
    {
     "data": {
      "text/plain": [
       "<AxesSubplot:xlabel='class', ylabel='redshift'>"
      ]
     },
     "execution_count": 13,
     "metadata": {},
     "output_type": "execute_result"
    },
    {
     "data": {
      "image/png": "[encoded data removed]",
      "text/plain": [
       "<Figure size 1620x720 with 6 Axes>"
      ]
     },
     "metadata": {
      "needs_background": "light"
     },
     "output_type": "display_data"
    }
   ],
   "source": [
    "f, axs = plt.subplots(2,3, figsize=(22.5,10))\n",
    "sns.boxplot(data=data, y='u', x='class', ax=axs[0, 0])\n",
    "sns.boxplot(data=data, y='g', x='class', ax=axs[0, 1])\n",
    "sns.boxplot(data=data, y='r', x='class', ax=axs[0, 2])\n",
    "sns.boxplot(data=data, y='i', x='class', ax=axs[1, 0])\n",
    "sns.boxplot(data=data, y='z', x='class', ax=axs[1, 1])\n",
    "sns.boxplot(data=data, y='redshift', x='class', ax=axs[1, 2])"
   ]
  },
  {
   "cell_type": "code",
   "execution_count": 14,
   "id": "07549a00-7066-484a-b483-bf138083936f",
   "metadata": {},
   "outputs": [
    {
     "data": {
      "text/plain": [
       "<seaborn.axisgrid.PairGrid at 0x2475ce33bb0>"
      ]
     },
     "execution_count": 14,
     "metadata": {},
     "output_type": "execute_result"
    },
    {
     "data": {
      "image/png": "[encoded data removed]",
      "text/plain": [
       "<Figure size 900x900 with 30 Axes>"
      ]
     },
     "metadata": {
      "needs_background": "light"
     },
     "output_type": "display_data"
    }
   ],
   "source": [
    "sns.pairplot(data[['u','g','r','i', 'redshift']])"
   ]
  },
  {
   "cell_type": "markdown",
   "id": "e1541fff-8dc2-468a-9f63-a1cb83178777",
   "metadata": {
    "tags": []
   },
   "source": [
    "## Подготовка данных:"
   ]
  },
  {
   "cell_type": "code",
   "execution_count": 15,
   "id": "ad09cc1e-a54e-4217-80f9-85d9f8569b68",
   "metadata": {},
   "outputs": [
    {
     "data": {
      "text/html": [
       "<div>\n",
       "<style scoped>\n",
       "    .dataframe tbody tr th:only-of-type {\n",
       "        vertical-align: middle;\n",
       "    }\n",
       "\n",
       "    .dataframe tbody tr th {\n",
       "        vertical-align: top;\n",
       "    }\n",
       "\n",
       "    .dataframe thead th {\n",
       "        text-align: right;\n",
       "    }\n",
       "</style>\n",
       "<table border=\"1\" class=\"dataframe\">\n",
       "  <thead>\n",
       "    <tr style=\"text-align: right;\">\n",
       "      <th></th>\n",
       "      <th>ra</th>\n",
       "      <th>dec</th>\n",
       "      <th>u</th>\n",
       "      <th>g</th>\n",
       "      <th>r</th>\n",
       "      <th>i</th>\n",
       "      <th>z</th>\n",
       "      <th>run</th>\n",
       "      <th>camcol</th>\n",
       "      <th>field</th>\n",
       "      <th>class</th>\n",
       "      <th>redshift</th>\n",
       "      <th>plate</th>\n",
       "      <th>mjd</th>\n",
       "      <th>fiberid</th>\n",
       "    </tr>\n",
       "  </thead>\n",
       "  <tbody>\n",
       "    <tr>\n",
       "      <th>0</th>\n",
       "      <td>183.531326</td>\n",
       "      <td>0.089693</td>\n",
       "      <td>19.47406</td>\n",
       "      <td>17.04240</td>\n",
       "      <td>15.94699</td>\n",
       "      <td>15.50342</td>\n",
       "      <td>15.22531</td>\n",
       "      <td>752</td>\n",
       "      <td>4</td>\n",
       "      <td>267</td>\n",
       "      <td>STAR</td>\n",
       "      <td>-0.000009</td>\n",
       "      <td>3306</td>\n",
       "      <td>54922</td>\n",
       "      <td>491</td>\n",
       "    </tr>\n",
       "    <tr>\n",
       "      <th>1</th>\n",
       "      <td>183.598370</td>\n",
       "      <td>0.135285</td>\n",
       "      <td>18.66280</td>\n",
       "      <td>17.21449</td>\n",
       "      <td>16.67637</td>\n",
       "      <td>16.48922</td>\n",
       "      <td>16.39150</td>\n",
       "      <td>752</td>\n",
       "      <td>4</td>\n",
       "      <td>267</td>\n",
       "      <td>STAR</td>\n",
       "      <td>-0.000055</td>\n",
       "      <td>323</td>\n",
       "      <td>51615</td>\n",
       "      <td>541</td>\n",
       "    </tr>\n",
       "    <tr>\n",
       "      <th>2</th>\n",
       "      <td>183.680207</td>\n",
       "      <td>0.126185</td>\n",
       "      <td>19.38298</td>\n",
       "      <td>18.19169</td>\n",
       "      <td>17.47428</td>\n",
       "      <td>17.08732</td>\n",
       "      <td>16.80125</td>\n",
       "      <td>752</td>\n",
       "      <td>4</td>\n",
       "      <td>268</td>\n",
       "      <td>GALAXY</td>\n",
       "      <td>0.123111</td>\n",
       "      <td>287</td>\n",
       "      <td>52023</td>\n",
       "      <td>513</td>\n",
       "    </tr>\n",
       "    <tr>\n",
       "      <th>3</th>\n",
       "      <td>183.870529</td>\n",
       "      <td>0.049911</td>\n",
       "      <td>17.76536</td>\n",
       "      <td>16.60272</td>\n",
       "      <td>16.16116</td>\n",
       "      <td>15.98233</td>\n",
       "      <td>15.90438</td>\n",
       "      <td>752</td>\n",
       "      <td>4</td>\n",
       "      <td>269</td>\n",
       "      <td>STAR</td>\n",
       "      <td>-0.000111</td>\n",
       "      <td>3306</td>\n",
       "      <td>54922</td>\n",
       "      <td>510</td>\n",
       "    </tr>\n",
       "    <tr>\n",
       "      <th>4</th>\n",
       "      <td>183.883288</td>\n",
       "      <td>0.102557</td>\n",
       "      <td>17.55025</td>\n",
       "      <td>16.26342</td>\n",
       "      <td>16.43869</td>\n",
       "      <td>16.55492</td>\n",
       "      <td>16.61326</td>\n",
       "      <td>752</td>\n",
       "      <td>4</td>\n",
       "      <td>269</td>\n",
       "      <td>STAR</td>\n",
       "      <td>0.000590</td>\n",
       "      <td>3306</td>\n",
       "      <td>54922</td>\n",
       "      <td>512</td>\n",
       "    </tr>\n",
       "  </tbody>\n",
       "</table>\n",
       "</div>"
      ],
      "text/plain": [
       "           ra       dec         u         g         r         i         z  \\\n",
       "0  183.531326  0.089693  19.47406  17.04240  15.94699  15.50342  15.22531   \n",
       "1  183.598370  0.135285  18.66280  17.21449  16.67637  16.48922  16.39150   \n",
       "2  183.680207  0.126185  19.38298  18.19169  17.47428  17.08732  16.80125   \n",
       "3  183.870529  0.049911  17.76536  16.60272  16.16116  15.98233  15.90438   \n",
       "4  183.883288  0.102557  17.55025  16.26342  16.43869  16.55492  16.61326   \n",
       "\n",
       "   run  camcol  field   class  redshift  plate    mjd  fiberid  \n",
       "0  752       4    267    STAR -0.000009   3306  54922      491  \n",
       "1  752       4    267    STAR -0.000055    323  51615      541  \n",
       "2  752       4    268  GALAXY  0.123111    287  52023      513  \n",
       "3  752       4    269    STAR -0.000111   3306  54922      510  \n",
       "4  752       4    269    STAR  0.000590   3306  54922      512  "
      ]
     },
     "execution_count": 15,
     "metadata": {},
     "output_type": "execute_result"
    }
   ],
   "source": [
    "data.drop(columns=['objid','specobjid', 'rerun'], inplace=True)\n",
    "data.head()"
   ]
  },
  {
   "cell_type": "code",
   "execution_count": 16,
   "id": "65a8ed60-c103-4d3f-8308-ed0cab83d0fc",
   "metadata": {},
   "outputs": [
    {
     "data": {
      "text/html": [
       "<div>\n",
       "<style scoped>\n",
       "    .dataframe tbody tr th:only-of-type {\n",
       "        vertical-align: middle;\n",
       "    }\n",
       "\n",
       "    .dataframe tbody tr th {\n",
       "        vertical-align: top;\n",
       "    }\n",
       "\n",
       "    .dataframe thead th {\n",
       "        text-align: right;\n",
       "    }\n",
       "</style>\n",
       "<table border=\"1\" class=\"dataframe\">\n",
       "  <thead>\n",
       "    <tr style=\"text-align: right;\">\n",
       "      <th></th>\n",
       "      <th>ra</th>\n",
       "      <th>dec</th>\n",
       "      <th>u</th>\n",
       "      <th>g</th>\n",
       "      <th>r</th>\n",
       "      <th>i</th>\n",
       "      <th>z</th>\n",
       "      <th>run</th>\n",
       "      <th>camcol</th>\n",
       "      <th>field</th>\n",
       "      <th>redshift</th>\n",
       "      <th>plate</th>\n",
       "      <th>mjd</th>\n",
       "      <th>fiberid</th>\n",
       "    </tr>\n",
       "  </thead>\n",
       "  <tbody>\n",
       "    <tr>\n",
       "      <th>ra</th>\n",
       "      <td>1.000000</td>\n",
       "      <td>0.003596</td>\n",
       "      <td>0.031238</td>\n",
       "      <td>0.043909</td>\n",
       "      <td>0.047103</td>\n",
       "      <td>0.045731</td>\n",
       "      <td>0.042950</td>\n",
       "      <td>-0.092741</td>\n",
       "      <td>-0.006294</td>\n",
       "      <td>0.594700</td>\n",
       "      <td>0.030307</td>\n",
       "      <td>-0.095329</td>\n",
       "      <td>-0.086887</td>\n",
       "      <td>0.057485</td>\n",
       "    </tr>\n",
       "    <tr>\n",
       "      <th>dec</th>\n",
       "      <td>0.003596</td>\n",
       "      <td>1.000000</td>\n",
       "      <td>0.035279</td>\n",
       "      <td>0.061875</td>\n",
       "      <td>0.063404</td>\n",
       "      <td>0.058292</td>\n",
       "      <td>0.056870</td>\n",
       "      <td>0.778385</td>\n",
       "      <td>0.114614</td>\n",
       "      <td>-0.131471</td>\n",
       "      <td>0.067021</td>\n",
       "      <td>0.088342</td>\n",
       "      <td>0.066147</td>\n",
       "      <td>0.155012</td>\n",
       "    </tr>\n",
       "    <tr>\n",
       "      <th>u</th>\n",
       "      <td>0.031238</td>\n",
       "      <td>0.035279</td>\n",
       "      <td>1.000000</td>\n",
       "      <td>0.849232</td>\n",
       "      <td>0.692379</td>\n",
       "      <td>0.602630</td>\n",
       "      <td>0.551483</td>\n",
       "      <td>0.038229</td>\n",
       "      <td>0.009945</td>\n",
       "      <td>0.008548</td>\n",
       "      <td>0.163741</td>\n",
       "      <td>-0.129430</td>\n",
       "      <td>-0.168793</td>\n",
       "      <td>0.011301</td>\n",
       "    </tr>\n",
       "    <tr>\n",
       "      <th>g</th>\n",
       "      <td>0.043909</td>\n",
       "      <td>0.061875</td>\n",
       "      <td>0.849232</td>\n",
       "      <td>1.000000</td>\n",
       "      <td>0.958106</td>\n",
       "      <td>0.907419</td>\n",
       "      <td>0.879622</td>\n",
       "      <td>0.058446</td>\n",
       "      <td>0.010223</td>\n",
       "      <td>0.014651</td>\n",
       "      <td>0.407576</td>\n",
       "      <td>-0.054981</td>\n",
       "      <td>-0.092772</td>\n",
       "      <td>0.047187</td>\n",
       "    </tr>\n",
       "    <tr>\n",
       "      <th>r</th>\n",
       "      <td>0.047103</td>\n",
       "      <td>0.063404</td>\n",
       "      <td>0.692379</td>\n",
       "      <td>0.958106</td>\n",
       "      <td>1.000000</td>\n",
       "      <td>0.977672</td>\n",
       "      <td>0.969197</td>\n",
       "      <td>0.057261</td>\n",
       "      <td>0.010747</td>\n",
       "      <td>0.017133</td>\n",
       "      <td>0.441080</td>\n",
       "      <td>0.019787</td>\n",
       "      <td>-0.009345</td>\n",
       "      <td>0.061081</td>\n",
       "    </tr>\n",
       "    <tr>\n",
       "      <th>i</th>\n",
       "      <td>0.045731</td>\n",
       "      <td>0.058292</td>\n",
       "      <td>0.602630</td>\n",
       "      <td>0.907419</td>\n",
       "      <td>0.977672</td>\n",
       "      <td>1.000000</td>\n",
       "      <td>0.981507</td>\n",
       "      <td>0.049765</td>\n",
       "      <td>0.013461</td>\n",
       "      <td>0.019781</td>\n",
       "      <td>0.431450</td>\n",
       "      <td>0.072958</td>\n",
       "      <td>0.050896</td>\n",
       "      <td>0.069977</td>\n",
       "    </tr>\n",
       "    <tr>\n",
       "      <th>z</th>\n",
       "      <td>0.042950</td>\n",
       "      <td>0.056870</td>\n",
       "      <td>0.551483</td>\n",
       "      <td>0.879622</td>\n",
       "      <td>0.969197</td>\n",
       "      <td>0.981507</td>\n",
       "      <td>1.000000</td>\n",
       "      <td>0.048252</td>\n",
       "      <td>0.010930</td>\n",
       "      <td>0.018248</td>\n",
       "      <td>0.424034</td>\n",
       "      <td>0.112397</td>\n",
       "      <td>0.095658</td>\n",
       "      <td>0.067980</td>\n",
       "    </tr>\n",
       "    <tr>\n",
       "      <th>run</th>\n",
       "      <td>-0.092741</td>\n",
       "      <td>0.778385</td>\n",
       "      <td>0.038229</td>\n",
       "      <td>0.058446</td>\n",
       "      <td>0.057261</td>\n",
       "      <td>0.049765</td>\n",
       "      <td>0.048252</td>\n",
       "      <td>1.000000</td>\n",
       "      <td>0.151814</td>\n",
       "      <td>-0.463898</td>\n",
       "      <td>0.059056</td>\n",
       "      <td>0.093601</td>\n",
       "      <td>0.070354</td>\n",
       "      <td>0.138566</td>\n",
       "    </tr>\n",
       "    <tr>\n",
       "      <th>camcol</th>\n",
       "      <td>-0.006294</td>\n",
       "      <td>0.114614</td>\n",
       "      <td>0.009945</td>\n",
       "      <td>0.010223</td>\n",
       "      <td>0.010747</td>\n",
       "      <td>0.013461</td>\n",
       "      <td>0.010930</td>\n",
       "      <td>0.151814</td>\n",
       "      <td>1.000000</td>\n",
       "      <td>-0.067921</td>\n",
       "      <td>0.006834</td>\n",
       "      <td>0.040795</td>\n",
       "      <td>0.026284</td>\n",
       "      <td>0.535629</td>\n",
       "    </tr>\n",
       "    <tr>\n",
       "      <th>field</th>\n",
       "      <td>0.594700</td>\n",
       "      <td>-0.131471</td>\n",
       "      <td>0.008548</td>\n",
       "      <td>0.014651</td>\n",
       "      <td>0.017133</td>\n",
       "      <td>0.019781</td>\n",
       "      <td>0.018248</td>\n",
       "      <td>-0.463898</td>\n",
       "      <td>-0.067921</td>\n",
       "      <td>1.000000</td>\n",
       "      <td>0.015414</td>\n",
       "      <td>-0.093723</td>\n",
       "      <td>-0.086558</td>\n",
       "      <td>-0.040493</td>\n",
       "    </tr>\n",
       "    <tr>\n",
       "      <th>redshift</th>\n",
       "      <td>0.030307</td>\n",
       "      <td>0.067021</td>\n",
       "      <td>0.163741</td>\n",
       "      <td>0.407576</td>\n",
       "      <td>0.441080</td>\n",
       "      <td>0.431450</td>\n",
       "      <td>0.424034</td>\n",
       "      <td>0.059056</td>\n",
       "      <td>0.006834</td>\n",
       "      <td>0.015414</td>\n",
       "      <td>1.000000</td>\n",
       "      <td>-0.038091</td>\n",
       "      <td>-0.057957</td>\n",
       "      <td>0.046532</td>\n",
       "    </tr>\n",
       "    <tr>\n",
       "      <th>plate</th>\n",
       "      <td>-0.095329</td>\n",
       "      <td>0.088342</td>\n",
       "      <td>-0.129430</td>\n",
       "      <td>-0.054981</td>\n",
       "      <td>0.019787</td>\n",
       "      <td>0.072958</td>\n",
       "      <td>0.112397</td>\n",
       "      <td>0.093601</td>\n",
       "      <td>0.040795</td>\n",
       "      <td>-0.093723</td>\n",
       "      <td>-0.038091</td>\n",
       "      <td>1.000000</td>\n",
       "      <td>0.966881</td>\n",
       "      <td>0.229811</td>\n",
       "    </tr>\n",
       "    <tr>\n",
       "      <th>mjd</th>\n",
       "      <td>-0.086887</td>\n",
       "      <td>0.066147</td>\n",
       "      <td>-0.168793</td>\n",
       "      <td>-0.092772</td>\n",
       "      <td>-0.009345</td>\n",
       "      <td>0.050896</td>\n",
       "      <td>0.095658</td>\n",
       "      <td>0.070354</td>\n",
       "      <td>0.026284</td>\n",
       "      <td>-0.086558</td>\n",
       "      <td>-0.057957</td>\n",
       "      <td>0.966881</td>\n",
       "      <td>1.000000</td>\n",
       "      <td>0.190328</td>\n",
       "    </tr>\n",
       "    <tr>\n",
       "      <th>fiberid</th>\n",
       "      <td>0.057485</td>\n",
       "      <td>0.155012</td>\n",
       "      <td>0.011301</td>\n",
       "      <td>0.047187</td>\n",
       "      <td>0.061081</td>\n",
       "      <td>0.069977</td>\n",
       "      <td>0.067980</td>\n",
       "      <td>0.138566</td>\n",
       "      <td>0.535629</td>\n",
       "      <td>-0.040493</td>\n",
       "      <td>0.046532</td>\n",
       "      <td>0.229811</td>\n",
       "      <td>0.190328</td>\n",
       "      <td>1.000000</td>\n",
       "    </tr>\n",
       "  </tbody>\n",
       "</table>\n",
       "</div>"
      ],
      "text/plain": [
       "                ra       dec         u         g         r         i  \\\n",
       "ra        1.000000  0.003596  0.031238  0.043909  0.047103  0.045731   \n",
       "dec       0.003596  1.000000  0.035279  0.061875  0.063404  0.058292   \n",
       "u         0.031238  0.035279  1.000000  0.849232  0.692379  0.602630   \n",
       "g         0.043909  0.061875  0.849232  1.000000  0.958106  0.907419   \n",
       "r         0.047103  0.063404  0.692379  0.958106  1.000000  0.977672   \n",
       "i         0.045731  0.058292  0.602630  0.907419  0.977672  1.000000   \n",
       "z         0.042950  0.056870  0.551483  0.879622  0.969197  0.981507   \n",
       "run      -0.092741  0.778385  0.038229  0.058446  0.057261  0.049765   \n",
       "camcol   -0.006294  0.114614  0.009945  0.010223  0.010747  0.013461   \n",
       "field     0.594700 -0.131471  0.008548  0.014651  0.017133  0.019781   \n",
       "redshift  0.030307  0.067021  0.163741  0.407576  0.441080  0.431450   \n",
       "plate    -0.095329  0.088342 -0.129430 -0.054981  0.019787  0.072958   \n",
       "mjd      -0.086887  0.066147 -0.168793 -0.092772 -0.009345  0.050896   \n",
       "fiberid   0.057485  0.155012  0.011301  0.047187  0.061081  0.069977   \n",
       "\n",
       "                 z       run    camcol     field  redshift     plate  \\\n",
       "ra        0.042950 -0.092741 -0.006294  0.594700  0.030307 -0.095329   \n",
       "dec       0.056870  0.778385  0.114614 -0.131471  0.067021  0.088342   \n",
       "u         0.551483  0.038229  0.009945  0.008548  0.163741 -0.129430   \n",
       "g         0.879622  0.058446  0.010223  0.014651  0.407576 -0.054981   \n",
       "r         0.969197  0.057261  0.010747  0.017133  0.441080  0.019787   \n",
       "i         0.981507  0.049765  0.013461  0.019781  0.431450  0.072958   \n",
       "z         1.000000  0.048252  0.010930  0.018248  0.424034  0.112397   \n",
       "run       0.048252  1.000000  0.151814 -0.463898  0.059056  0.093601   \n",
       "camcol    0.010930  0.151814  1.000000 -0.067921  0.006834  0.040795   \n",
       "field     0.018248 -0.463898 -0.067921  1.000000  0.015414 -0.093723   \n",
       "redshift  0.424034  0.059056  0.006834  0.015414  1.000000 -0.038091   \n",
       "plate     0.112397  0.093601  0.040795 -0.093723 -0.038091  1.000000   \n",
       "mjd       0.095658  0.070354  0.026284 -0.086558 -0.057957  0.966881   \n",
       "fiberid   0.067980  0.138566  0.535629 -0.040493  0.046532  0.229811   \n",
       "\n",
       "               mjd   fiberid  \n",
       "ra       -0.086887  0.057485  \n",
       "dec       0.066147  0.155012  \n",
       "u        -0.168793  0.011301  \n",
       "g        -0.092772  0.047187  \n",
       "r        -0.009345  0.061081  \n",
       "i         0.050896  0.069977  \n",
       "z         0.095658  0.067980  \n",
       "run       0.070354  0.138566  \n",
       "camcol    0.026284  0.535629  \n",
       "field    -0.086558 -0.040493  \n",
       "redshift -0.057957  0.046532  \n",
       "plate     0.966881  0.229811  \n",
       "mjd       1.000000  0.190328  \n",
       "fiberid   0.190328  1.000000  "
      ]
     },
     "execution_count": 16,
     "metadata": {},
     "output_type": "execute_result"
    }
   ],
   "source": [
    "data.corr()"
   ]
  },
  {
   "cell_type": "code",
   "execution_count": 17,
   "id": "ca64fdf7-32ac-455a-990f-7d35f96f4128",
   "metadata": {},
   "outputs": [
    {
     "data": {
      "text/html": [
       "<div>\n",
       "<style scoped>\n",
       "    .dataframe tbody tr th:only-of-type {\n",
       "        vertical-align: middle;\n",
       "    }\n",
       "\n",
       "    .dataframe tbody tr th {\n",
       "        vertical-align: top;\n",
       "    }\n",
       "\n",
       "    .dataframe thead th {\n",
       "        text-align: right;\n",
       "    }\n",
       "</style>\n",
       "<table border=\"1\" class=\"dataframe\">\n",
       "  <thead>\n",
       "    <tr style=\"text-align: right;\">\n",
       "      <th></th>\n",
       "      <th>ra</th>\n",
       "      <th>dec</th>\n",
       "      <th>u</th>\n",
       "      <th>g</th>\n",
       "      <th>r</th>\n",
       "      <th>i</th>\n",
       "      <th>z</th>\n",
       "      <th>run</th>\n",
       "      <th>camcol</th>\n",
       "      <th>field</th>\n",
       "      <th>class</th>\n",
       "      <th>redshift</th>\n",
       "      <th>plate</th>\n",
       "      <th>mjd</th>\n",
       "      <th>fiberid</th>\n",
       "      <th>classtype</th>\n",
       "    </tr>\n",
       "  </thead>\n",
       "  <tbody>\n",
       "    <tr>\n",
       "      <th>0</th>\n",
       "      <td>183.531326</td>\n",
       "      <td>0.089693</td>\n",
       "      <td>19.47406</td>\n",
       "      <td>17.04240</td>\n",
       "      <td>15.94699</td>\n",
       "      <td>15.50342</td>\n",
       "      <td>15.22531</td>\n",
       "      <td>752</td>\n",
       "      <td>4</td>\n",
       "      <td>267</td>\n",
       "      <td>STAR</td>\n",
       "      <td>-0.000009</td>\n",
       "      <td>3306</td>\n",
       "      <td>54922</td>\n",
       "      <td>491</td>\n",
       "      <td>0</td>\n",
       "    </tr>\n",
       "    <tr>\n",
       "      <th>1</th>\n",
       "      <td>183.598370</td>\n",
       "      <td>0.135285</td>\n",
       "      <td>18.66280</td>\n",
       "      <td>17.21449</td>\n",
       "      <td>16.67637</td>\n",
       "      <td>16.48922</td>\n",
       "      <td>16.39150</td>\n",
       "      <td>752</td>\n",
       "      <td>4</td>\n",
       "      <td>267</td>\n",
       "      <td>STAR</td>\n",
       "      <td>-0.000055</td>\n",
       "      <td>323</td>\n",
       "      <td>51615</td>\n",
       "      <td>541</td>\n",
       "      <td>0</td>\n",
       "    </tr>\n",
       "    <tr>\n",
       "      <th>2</th>\n",
       "      <td>183.680207</td>\n",
       "      <td>0.126185</td>\n",
       "      <td>19.38298</td>\n",
       "      <td>18.19169</td>\n",
       "      <td>17.47428</td>\n",
       "      <td>17.08732</td>\n",
       "      <td>16.80125</td>\n",
       "      <td>752</td>\n",
       "      <td>4</td>\n",
       "      <td>268</td>\n",
       "      <td>GALAXY</td>\n",
       "      <td>0.123111</td>\n",
       "      <td>287</td>\n",
       "      <td>52023</td>\n",
       "      <td>513</td>\n",
       "      <td>1</td>\n",
       "    </tr>\n",
       "    <tr>\n",
       "      <th>3</th>\n",
       "      <td>183.870529</td>\n",
       "      <td>0.049911</td>\n",
       "      <td>17.76536</td>\n",
       "      <td>16.60272</td>\n",
       "      <td>16.16116</td>\n",
       "      <td>15.98233</td>\n",
       "      <td>15.90438</td>\n",
       "      <td>752</td>\n",
       "      <td>4</td>\n",
       "      <td>269</td>\n",
       "      <td>STAR</td>\n",
       "      <td>-0.000111</td>\n",
       "      <td>3306</td>\n",
       "      <td>54922</td>\n",
       "      <td>510</td>\n",
       "      <td>0</td>\n",
       "    </tr>\n",
       "    <tr>\n",
       "      <th>4</th>\n",
       "      <td>183.883288</td>\n",
       "      <td>0.102557</td>\n",
       "      <td>17.55025</td>\n",
       "      <td>16.26342</td>\n",
       "      <td>16.43869</td>\n",
       "      <td>16.55492</td>\n",
       "      <td>16.61326</td>\n",
       "      <td>752</td>\n",
       "      <td>4</td>\n",
       "      <td>269</td>\n",
       "      <td>STAR</td>\n",
       "      <td>0.000590</td>\n",
       "      <td>3306</td>\n",
       "      <td>54922</td>\n",
       "      <td>512</td>\n",
       "      <td>0</td>\n",
       "    </tr>\n",
       "  </tbody>\n",
       "</table>\n",
       "</div>"
      ],
      "text/plain": [
       "           ra       dec         u         g         r         i         z  \\\n",
       "0  183.531326  0.089693  19.47406  17.04240  15.94699  15.50342  15.22531   \n",
       "1  183.598370  0.135285  18.66280  17.21449  16.67637  16.48922  16.39150   \n",
       "2  183.680207  0.126185  19.38298  18.19169  17.47428  17.08732  16.80125   \n",
       "3  183.870529  0.049911  17.76536  16.60272  16.16116  15.98233  15.90438   \n",
       "4  183.883288  0.102557  17.55025  16.26342  16.43869  16.55492  16.61326   \n",
       "\n",
       "   run  camcol  field   class  redshift  plate    mjd  fiberid  classtype  \n",
       "0  752       4    267    STAR -0.000009   3306  54922      491          0  \n",
       "1  752       4    267    STAR -0.000055    323  51615      541          0  \n",
       "2  752       4    268  GALAXY  0.123111    287  52023      513          1  \n",
       "3  752       4    269    STAR -0.000111   3306  54922      510          0  \n",
       "4  752       4    269    STAR  0.000590   3306  54922      512          0  "
      ]
     },
     "execution_count": 17,
     "metadata": {},
     "output_type": "execute_result"
    }
   ],
   "source": [
    "def change_category (type):\n",
    "    if type == 'STAR':\n",
    "        return 0\n",
    "    elif type == 'GALAXY':\n",
    "        return 1 \n",
    "    else :\n",
    "        return 2\n",
    "data['classtype'] = data['class'].apply(change_category)\n",
    "data.head()"
   ]
  },
  {
   "cell_type": "code",
   "execution_count": 18,
   "id": "0c9a180c-0917-4702-ba57-73b0213cca79",
   "metadata": {},
   "outputs": [],
   "source": [
    "data.drop(columns='class',inplace=True)\n",
    "X = data.drop(columns='classtype')\n",
    "y = data['classtype']"
   ]
  },
  {
   "cell_type": "markdown",
   "id": "90f9184b-fb89-4e1e-a054-1d22facc9132",
   "metadata": {},
   "source": [
    "## Машинное обучение (Нормализация + Классификатор ближайших соседей):"
   ]
  },
  {
   "cell_type": "code",
   "execution_count": 19,
   "id": "359477b3-fcca-446d-81d4-e0fd7ec3df94",
   "metadata": {},
   "outputs": [
    {
     "data": {
      "text/html": [
       "<div>\n",
       "<style scoped>\n",
       "    .dataframe tbody tr th:only-of-type {\n",
       "        vertical-align: middle;\n",
       "    }\n",
       "\n",
       "    .dataframe tbody tr th {\n",
       "        vertical-align: top;\n",
       "    }\n",
       "\n",
       "    .dataframe thead th {\n",
       "        text-align: right;\n",
       "    }\n",
       "</style>\n",
       "<table border=\"1\" class=\"dataframe\">\n",
       "  <thead>\n",
       "    <tr style=\"text-align: right;\">\n",
       "      <th></th>\n",
       "      <th>ra</th>\n",
       "      <th>dec</th>\n",
       "      <th>u</th>\n",
       "      <th>g</th>\n",
       "      <th>r</th>\n",
       "      <th>i</th>\n",
       "      <th>z</th>\n",
       "      <th>run</th>\n",
       "      <th>camcol</th>\n",
       "      <th>field</th>\n",
       "      <th>redshift</th>\n",
       "      <th>plate</th>\n",
       "      <th>mjd</th>\n",
       "      <th>fiberid</th>\n",
       "    </tr>\n",
       "  </thead>\n",
       "  <tbody>\n",
       "    <tr>\n",
       "      <th>count</th>\n",
       "      <td>10000.000000</td>\n",
       "      <td>10000.000000</td>\n",
       "      <td>10000.000000</td>\n",
       "      <td>10000.000000</td>\n",
       "      <td>10000.000000</td>\n",
       "      <td>10000.000000</td>\n",
       "      <td>10000.000000</td>\n",
       "      <td>10000.000000</td>\n",
       "      <td>10000.000000</td>\n",
       "      <td>10000.000000</td>\n",
       "      <td>10000.000000</td>\n",
       "      <td>10000.000000</td>\n",
       "      <td>10000.000000</td>\n",
       "      <td>10000.000000</td>\n",
       "    </tr>\n",
       "    <tr>\n",
       "      <th>mean</th>\n",
       "      <td>175.529987</td>\n",
       "      <td>14.836148</td>\n",
       "      <td>18.619355</td>\n",
       "      <td>17.371931</td>\n",
       "      <td>16.840963</td>\n",
       "      <td>16.583579</td>\n",
       "      <td>16.422833</td>\n",
       "      <td>981.034800</td>\n",
       "      <td>3.648700</td>\n",
       "      <td>302.380100</td>\n",
       "      <td>0.143726</td>\n",
       "      <td>1460.986400</td>\n",
       "      <td>52943.533300</td>\n",
       "      <td>353.069400</td>\n",
       "    </tr>\n",
       "    <tr>\n",
       "      <th>std</th>\n",
       "      <td>47.783439</td>\n",
       "      <td>25.212207</td>\n",
       "      <td>0.828656</td>\n",
       "      <td>0.945457</td>\n",
       "      <td>1.067764</td>\n",
       "      <td>1.141805</td>\n",
       "      <td>1.203188</td>\n",
       "      <td>273.305024</td>\n",
       "      <td>1.666183</td>\n",
       "      <td>162.577763</td>\n",
       "      <td>0.388774</td>\n",
       "      <td>1788.778371</td>\n",
       "      <td>1511.150651</td>\n",
       "      <td>206.298149</td>\n",
       "    </tr>\n",
       "    <tr>\n",
       "      <th>min</th>\n",
       "      <td>8.235100</td>\n",
       "      <td>-5.382632</td>\n",
       "      <td>12.988970</td>\n",
       "      <td>12.799550</td>\n",
       "      <td>12.431600</td>\n",
       "      <td>11.947210</td>\n",
       "      <td>11.610410</td>\n",
       "      <td>308.000000</td>\n",
       "      <td>1.000000</td>\n",
       "      <td>11.000000</td>\n",
       "      <td>-0.004136</td>\n",
       "      <td>266.000000</td>\n",
       "      <td>51578.000000</td>\n",
       "      <td>1.000000</td>\n",
       "    </tr>\n",
       "    <tr>\n",
       "      <th>25%</th>\n",
       "      <td>157.370946</td>\n",
       "      <td>-0.539035</td>\n",
       "      <td>18.178035</td>\n",
       "      <td>16.815100</td>\n",
       "      <td>16.173333</td>\n",
       "      <td>15.853705</td>\n",
       "      <td>15.618285</td>\n",
       "      <td>752.000000</td>\n",
       "      <td>2.000000</td>\n",
       "      <td>184.000000</td>\n",
       "      <td>0.000081</td>\n",
       "      <td>301.000000</td>\n",
       "      <td>51900.000000</td>\n",
       "      <td>186.750000</td>\n",
       "    </tr>\n",
       "    <tr>\n",
       "      <th>50%</th>\n",
       "      <td>180.394514</td>\n",
       "      <td>0.404166</td>\n",
       "      <td>18.853095</td>\n",
       "      <td>17.495135</td>\n",
       "      <td>16.858770</td>\n",
       "      <td>16.554985</td>\n",
       "      <td>16.389945</td>\n",
       "      <td>756.000000</td>\n",
       "      <td>4.000000</td>\n",
       "      <td>299.000000</td>\n",
       "      <td>0.042591</td>\n",
       "      <td>441.000000</td>\n",
       "      <td>51997.000000</td>\n",
       "      <td>351.000000</td>\n",
       "    </tr>\n",
       "    <tr>\n",
       "      <th>75%</th>\n",
       "      <td>201.547279</td>\n",
       "      <td>35.649397</td>\n",
       "      <td>19.259232</td>\n",
       "      <td>18.010145</td>\n",
       "      <td>17.512675</td>\n",
       "      <td>17.258550</td>\n",
       "      <td>17.141447</td>\n",
       "      <td>1331.000000</td>\n",
       "      <td>5.000000</td>\n",
       "      <td>414.000000</td>\n",
       "      <td>0.092579</td>\n",
       "      <td>2559.000000</td>\n",
       "      <td>54468.000000</td>\n",
       "      <td>510.000000</td>\n",
       "    </tr>\n",
       "    <tr>\n",
       "      <th>max</th>\n",
       "      <td>260.884382</td>\n",
       "      <td>68.542265</td>\n",
       "      <td>19.599900</td>\n",
       "      <td>19.918970</td>\n",
       "      <td>24.802040</td>\n",
       "      <td>28.179630</td>\n",
       "      <td>22.833060</td>\n",
       "      <td>1412.000000</td>\n",
       "      <td>6.000000</td>\n",
       "      <td>768.000000</td>\n",
       "      <td>5.353854</td>\n",
       "      <td>8410.000000</td>\n",
       "      <td>57481.000000</td>\n",
       "      <td>1000.000000</td>\n",
       "    </tr>\n",
       "  </tbody>\n",
       "</table>\n",
       "</div>"
      ],
      "text/plain": [
       "                 ra           dec             u             g             r  \\\n",
       "count  10000.000000  10000.000000  10000.000000  10000.000000  10000.000000   \n",
       "mean     175.529987     14.836148     18.619355     17.371931     16.840963   \n",
       "std       47.783439     25.212207      0.828656      0.945457      1.067764   \n",
       "min        8.235100     -5.382632     12.988970     12.799550     12.431600   \n",
       "25%      157.370946     -0.539035     18.178035     16.815100     16.173333   \n",
       "50%      180.394514      0.404166     18.853095     17.495135     16.858770   \n",
       "75%      201.547279     35.649397     19.259232     18.010145     17.512675   \n",
       "max      260.884382     68.542265     19.599900     19.918970     24.802040   \n",
       "\n",
       "                  i             z           run        camcol         field  \\\n",
       "count  10000.000000  10000.000000  10000.000000  10000.000000  10000.000000   \n",
       "mean      16.583579     16.422833    981.034800      3.648700    302.380100   \n",
       "std        1.141805      1.203188    273.305024      1.666183    162.577763   \n",
       "min       11.947210     11.610410    308.000000      1.000000     11.000000   \n",
       "25%       15.853705     15.618285    752.000000      2.000000    184.000000   \n",
       "50%       16.554985     16.389945    756.000000      4.000000    299.000000   \n",
       "75%       17.258550     17.141447   1331.000000      5.000000    414.000000   \n",
       "max       28.179630     22.833060   1412.000000      6.000000    768.000000   \n",
       "\n",
       "           redshift         plate           mjd       fiberid  \n",
       "count  10000.000000  10000.000000  10000.000000  10000.000000  \n",
       "mean       0.143726   1460.986400  52943.533300    353.069400  \n",
       "std        0.388774   1788.778371   1511.150651    206.298149  \n",
       "min       -0.004136    266.000000  51578.000000      1.000000  \n",
       "25%        0.000081    301.000000  51900.000000    186.750000  \n",
       "50%        0.042591    441.000000  51997.000000    351.000000  \n",
       "75%        0.092579   2559.000000  54468.000000    510.000000  \n",
       "max        5.353854   8410.000000  57481.000000   1000.000000  "
      ]
     },
     "execution_count": 19,
     "metadata": {},
     "output_type": "execute_result"
    }
   ],
   "source": [
    "X.describe()"
   ]
  },
  {
   "cell_type": "code",
   "execution_count": 20,
   "id": "f409cce1-b407-4edd-a70f-0f912110c47a",
   "metadata": {},
   "outputs": [
    {
     "data": {
      "text/html": [
       "<div>\n",
       "<style scoped>\n",
       "    .dataframe tbody tr th:only-of-type {\n",
       "        vertical-align: middle;\n",
       "    }\n",
       "\n",
       "    .dataframe tbody tr th {\n",
       "        vertical-align: top;\n",
       "    }\n",
       "\n",
       "    .dataframe thead th {\n",
       "        text-align: right;\n",
       "    }\n",
       "</style>\n",
       "<table border=\"1\" class=\"dataframe\">\n",
       "  <thead>\n",
       "    <tr style=\"text-align: right;\">\n",
       "      <th></th>\n",
       "      <th>ra</th>\n",
       "      <th>dec</th>\n",
       "      <th>u</th>\n",
       "      <th>g</th>\n",
       "      <th>r</th>\n",
       "      <th>i</th>\n",
       "      <th>z</th>\n",
       "      <th>run</th>\n",
       "      <th>camcol</th>\n",
       "      <th>field</th>\n",
       "      <th>redshift</th>\n",
       "      <th>plate</th>\n",
       "      <th>mjd</th>\n",
       "      <th>fiberid</th>\n",
       "    </tr>\n",
       "  </thead>\n",
       "  <tbody>\n",
       "    <tr>\n",
       "      <th>count</th>\n",
       "      <td>1.000000e+04</td>\n",
       "      <td>1.000000e+04</td>\n",
       "      <td>1.000000e+04</td>\n",
       "      <td>1.000000e+04</td>\n",
       "      <td>1.000000e+04</td>\n",
       "      <td>1.000000e+04</td>\n",
       "      <td>1.000000e+04</td>\n",
       "      <td>1.000000e+04</td>\n",
       "      <td>1.000000e+04</td>\n",
       "      <td>1.000000e+04</td>\n",
       "      <td>1.000000e+04</td>\n",
       "      <td>1.000000e+04</td>\n",
       "      <td>1.000000e+04</td>\n",
       "      <td>1.000000e+04</td>\n",
       "    </tr>\n",
       "    <tr>\n",
       "      <th>mean</th>\n",
       "      <td>-2.955858e-16</td>\n",
       "      <td>-4.547474e-17</td>\n",
       "      <td>4.323297e-15</td>\n",
       "      <td>-1.294609e-15</td>\n",
       "      <td>6.892265e-17</td>\n",
       "      <td>-2.734168e-15</td>\n",
       "      <td>2.415845e-16</td>\n",
       "      <td>-1.250555e-16</td>\n",
       "      <td>2.842171e-17</td>\n",
       "      <td>-1.733724e-16</td>\n",
       "      <td>5.968559e-17</td>\n",
       "      <td>1.207923e-17</td>\n",
       "      <td>-1.840306e-15</td>\n",
       "      <td>1.278977e-16</td>\n",
       "    </tr>\n",
       "    <tr>\n",
       "      <th>std</th>\n",
       "      <td>1.000000e+00</td>\n",
       "      <td>1.000000e+00</td>\n",
       "      <td>1.000000e+00</td>\n",
       "      <td>1.000000e+00</td>\n",
       "      <td>1.000000e+00</td>\n",
       "      <td>1.000000e+00</td>\n",
       "      <td>1.000000e+00</td>\n",
       "      <td>1.000000e+00</td>\n",
       "      <td>1.000000e+00</td>\n",
       "      <td>1.000000e+00</td>\n",
       "      <td>1.000000e+00</td>\n",
       "      <td>1.000000e+00</td>\n",
       "      <td>1.000000e+00</td>\n",
       "      <td>1.000000e+00</td>\n",
       "    </tr>\n",
       "    <tr>\n",
       "      <th>min</th>\n",
       "      <td>-3.501106e+00</td>\n",
       "      <td>-8.019441e-01</td>\n",
       "      <td>-6.794599e+00</td>\n",
       "      <td>-4.836159e+00</td>\n",
       "      <td>-4.129529e+00</td>\n",
       "      <td>-4.060562e+00</td>\n",
       "      <td>-3.999727e+00</td>\n",
       "      <td>-2.462577e+00</td>\n",
       "      <td>-1.589681e+00</td>\n",
       "      <td>-1.792251e+00</td>\n",
       "      <td>-3.803284e-01</td>\n",
       "      <td>-6.680461e-01</td>\n",
       "      <td>-9.036381e-01</td>\n",
       "      <td>-1.706605e+00</td>\n",
       "    </tr>\n",
       "    <tr>\n",
       "      <th>25%</th>\n",
       "      <td>-3.800279e-01</td>\n",
       "      <td>-6.098309e-01</td>\n",
       "      <td>-5.325737e-01</td>\n",
       "      <td>-5.889547e-01</td>\n",
       "      <td>-6.252604e-01</td>\n",
       "      <td>-6.392286e-01</td>\n",
       "      <td>-6.686803e-01</td>\n",
       "      <td>-8.380190e-01</td>\n",
       "      <td>-9.895071e-01</td>\n",
       "      <td>-7.281445e-01</td>\n",
       "      <td>-3.694815e-01</td>\n",
       "      <td>-6.484797e-01</td>\n",
       "      <td>-6.905554e-01</td>\n",
       "      <td>-8.062089e-01</td>\n",
       "    </tr>\n",
       "    <tr>\n",
       "      <th>50%</th>\n",
       "      <td>1.018036e-01</td>\n",
       "      <td>-5.724204e-01</td>\n",
       "      <td>2.820708e-01</td>\n",
       "      <td>1.303110e-01</td>\n",
       "      <td>1.667660e-02</td>\n",
       "      <td>-2.504303e-02</td>\n",
       "      <td>-2.733418e-02</td>\n",
       "      <td>-8.233833e-01</td>\n",
       "      <td>2.108412e-01</td>\n",
       "      <td>-2.079067e-02</td>\n",
       "      <td>-2.601383e-01</td>\n",
       "      <td>-5.702140e-01</td>\n",
       "      <td>-6.263659e-01</td>\n",
       "      <td>-1.003111e-02</td>\n",
       "    </tr>\n",
       "    <tr>\n",
       "      <th>75%</th>\n",
       "      <td>5.444835e-01</td>\n",
       "      <td>8.255227e-01</td>\n",
       "      <td>7.721867e-01</td>\n",
       "      <td>6.750316e-01</td>\n",
       "      <td>6.290823e-01</td>\n",
       "      <td>5.911437e-01</td>\n",
       "      <td>5.972585e-01</td>\n",
       "      <td>1.280493e+00</td>\n",
       "      <td>8.110153e-01</td>\n",
       "      <td>6.865631e-01</td>\n",
       "      <td>-1.315602e-01</td>\n",
       "      <td>6.138343e-01</td>\n",
       "      <td>1.008812e+00</td>\n",
       "      <td>7.606981e-01</td>\n",
       "    </tr>\n",
       "    <tr>\n",
       "      <th>max</th>\n",
       "      <td>1.786276e+00</td>\n",
       "      <td>2.130163e+00</td>\n",
       "      <td>1.183295e+00</td>\n",
       "      <td>2.693976e+00</td>\n",
       "      <td>7.455837e+00</td>\n",
       "      <td>1.015590e+01</td>\n",
       "      <td>5.327702e+00</td>\n",
       "      <td>1.576865e+00</td>\n",
       "      <td>1.411189e+00</td>\n",
       "      <td>2.863983e+00</td>\n",
       "      <td>1.340143e+01</td>\n",
       "      <td>3.884782e+00</td>\n",
       "      <td>3.002657e+00</td>\n",
       "      <td>3.135901e+00</td>\n",
       "    </tr>\n",
       "  </tbody>\n",
       "</table>\n",
       "</div>"
      ],
      "text/plain": [
       "                 ra           dec             u             g             r  \\\n",
       "count  1.000000e+04  1.000000e+04  1.000000e+04  1.000000e+04  1.000000e+04   \n",
       "mean  -2.955858e-16 -4.547474e-17  4.323297e-15 -1.294609e-15  6.892265e-17   \n",
       "std    1.000000e+00  1.000000e+00  1.000000e+00  1.000000e+00  1.000000e+00   \n",
       "min   -3.501106e+00 -8.019441e-01 -6.794599e+00 -4.836159e+00 -4.129529e+00   \n",
       "25%   -3.800279e-01 -6.098309e-01 -5.325737e-01 -5.889547e-01 -6.252604e-01   \n",
       "50%    1.018036e-01 -5.724204e-01  2.820708e-01  1.303110e-01  1.667660e-02   \n",
       "75%    5.444835e-01  8.255227e-01  7.721867e-01  6.750316e-01  6.290823e-01   \n",
       "max    1.786276e+00  2.130163e+00  1.183295e+00  2.693976e+00  7.455837e+00   \n",
       "\n",
       "                  i             z           run        camcol         field  \\\n",
       "count  1.000000e+04  1.000000e+04  1.000000e+04  1.000000e+04  1.000000e+04   \n",
       "mean  -2.734168e-15  2.415845e-16 -1.250555e-16  2.842171e-17 -1.733724e-16   \n",
       "std    1.000000e+00  1.000000e+00  1.000000e+00  1.000000e+00  1.000000e+00   \n",
       "min   -4.060562e+00 -3.999727e+00 -2.462577e+00 -1.589681e+00 -1.792251e+00   \n",
       "25%   -6.392286e-01 -6.686803e-01 -8.380190e-01 -9.895071e-01 -7.281445e-01   \n",
       "50%   -2.504303e-02 -2.733418e-02 -8.233833e-01  2.108412e-01 -2.079067e-02   \n",
       "75%    5.911437e-01  5.972585e-01  1.280493e+00  8.110153e-01  6.865631e-01   \n",
       "max    1.015590e+01  5.327702e+00  1.576865e+00  1.411189e+00  2.863983e+00   \n",
       "\n",
       "           redshift         plate           mjd       fiberid  \n",
       "count  1.000000e+04  1.000000e+04  1.000000e+04  1.000000e+04  \n",
       "mean   5.968559e-17  1.207923e-17 -1.840306e-15  1.278977e-16  \n",
       "std    1.000000e+00  1.000000e+00  1.000000e+00  1.000000e+00  \n",
       "min   -3.803284e-01 -6.680461e-01 -9.036381e-01 -1.706605e+00  \n",
       "25%   -3.694815e-01 -6.484797e-01 -6.905554e-01 -8.062089e-01  \n",
       "50%   -2.601383e-01 -5.702140e-01 -6.263659e-01 -1.003111e-02  \n",
       "75%   -1.315602e-01  6.138343e-01  1.008812e+00  7.606981e-01  \n",
       "max    1.340143e+01  3.884782e+00  3.002657e+00  3.135901e+00  "
      ]
     },
     "execution_count": 20,
     "metadata": {},
     "output_type": "execute_result"
    }
   ],
   "source": [
    "# Нормализация\n",
    "X = (X-X.mean(axis=0))/X.std(axis = 0)\n",
    "#X = StandardScaler().fit_transform(X)\n",
    "X.describe()"
   ]
  },
  {
   "cell_type": "markdown",
   "id": "2e742716-966a-4d07-a152-1d4ce1c1b67d",
   "metadata": {},
   "source": [
    "##### Разделение на обучающую и тестовую выборку:"
   ]
  },
  {
   "cell_type": "code",
   "execution_count": 21,
   "id": "df99361c-8522-43fd-be18-316a37c61bb9",
   "metadata": {},
   "outputs": [
    {
     "name": "stdout",
     "output_type": "stream",
     "text": [
      "7000 3000\n"
     ]
    }
   ],
   "source": [
    "X_train ,X_test,y_train,y_test=train_test_split(X,y,test_size=0.3,random_state=42)\n",
    "N_train, _ = X_train.shape \n",
    "N_test, _ = X_test.shape \n",
    "\n",
    "print(N_train, N_test)"
   ]
  },
  {
   "cell_type": "markdown",
   "id": "37e31e6e-8d55-48e4-9b55-c7e5d4084b8b",
   "metadata": {},
   "source": [
    "##### Классификатор ближайших соседей с параметром 3:"
   ]
  },
  {
   "cell_type": "code",
   "execution_count": 22,
   "id": "edcb9625-779f-4a4c-a9e2-210582ef79dd",
   "metadata": {},
   "outputs": [
    {
     "name": "stdout",
     "output_type": "stream",
     "text": [
      "Accuracy of KNeighborsClassifier =  0.897\n",
      "Error of KNeighborsClassifier =  0.103\n",
      "[[1051  164    2]\n",
      " [ 102 1394    1]\n",
      " [  14   26  246]]\n"
     ]
    }
   ],
   "source": [
    "knn = KNeighborsClassifier(n_neighbors = 3)\n",
    "knn.fit(X_train, y_train)\n",
    "\n",
    "y_test_predict = knn.predict(X_test)\n",
    "knn_acc = knn.score(X_test,y_test)\n",
    "err_test = np.mean(y_test  != y_test_predict)\n",
    "\n",
    "print(\"Accuracy of KNeighborsClassifier = \", knn_acc)\n",
    "print(\"Error of KNeighborsClassifier = \", err_test)\n",
    "print(confusion_matrix(y_test, y_test_predict))"
   ]
  },
  {
   "cell_type": "markdown",
   "id": "87502710-eb27-46d7-ada1-d8ea68b1e95b",
   "metadata": {},
   "source": [
    "##### Классификатор ближайших соседей с параметром 10:"
   ]
  },
  {
   "cell_type": "code",
   "execution_count": 23,
   "id": "304c08ca-ae2b-4607-ab2f-ecd92204f073",
   "metadata": {},
   "outputs": [
    {
     "name": "stdout",
     "output_type": "stream",
     "text": [
      "Accuracy of KNeighborsClassifier =  0.899\n",
      "Error of KNeighborsClassifier =  0.101\n",
      "[[1036  180    1]\n",
      " [  75 1420    2]\n",
      " [  16   29  241]]\n"
     ]
    }
   ],
   "source": [
    "knn = KNeighborsClassifier(n_neighbors = 10)\n",
    "knn.fit(X_train, y_train)\n",
    "\n",
    "y_test_predict = knn.predict(X_test)\n",
    "knn_acc = knn.score(X_test,y_test)\n",
    "err_test = np.mean(y_test  != y_test_predict)\n",
    "\n",
    "print(\"Accuracy of KNeighborsClassifier = \", knn_acc)\n",
    "print(\"Error of KNeighborsClassifier = \", err_test)\n",
    "print(confusion_matrix(y_test, y_test_predict))"
   ]
  },
  {
   "cell_type": "markdown",
   "id": "ec6e9354-0d46-433b-97e7-daea4ea40261",
   "metadata": {},
   "source": [
    "##### Классификатор ближайших соседей с параметром 25:"
   ]
  },
  {
   "cell_type": "code",
   "execution_count": 24,
   "id": "39d15dbd-f457-43ba-a772-64f23f08485a",
   "metadata": {},
   "outputs": [
    {
     "name": "stdout",
     "output_type": "stream",
     "text": [
      "Accuracy of KNeighborsClassifier =  0.884\n",
      "Error of KNeighborsClassifier =  0.116\n",
      "[[ 969  247    1]\n",
      " [  50 1447    0]\n",
      " [  18   32  236]]\n"
     ]
    }
   ],
   "source": [
    "knn = KNeighborsClassifier(n_neighbors = 25)\n",
    "knn.fit(X_train, y_train)\n",
    "\n",
    "y_test_predict = knn.predict(X_test)\n",
    "knn_acc = knn.score(X_test,y_test)\n",
    "err_test = np.mean(y_test  != y_test_predict)\n",
    "\n",
    "print(\"Accuracy of KNeighborsClassifier = \", knn_acc)\n",
    "print(\"Error of KNeighborsClassifier = \", err_test)\n",
    "print(confusion_matrix(y_test, y_test_predict))"
   ]
  },
  {
   "cell_type": "markdown",
   "id": "9da4f789-684e-46be-b04b-77bea38ff7da",
   "metadata": {},
   "source": [
    "### Другие классификаторы:"
   ]
  },
  {
   "cell_type": "markdown",
   "id": "07b2ba94-0b6b-47c6-82c4-14ad23295acd",
   "metadata": {},
   "source": [
    "#### Классификатор дерева решений:"
   ]
  },
  {
   "cell_type": "code",
   "execution_count": 25,
   "id": "a5784f0f-1900-4aa4-9217-e07475562044",
   "metadata": {},
   "outputs": [
    {
     "name": "stdout",
     "output_type": "stream",
     "text": [
      "Error of DecisionTreeClassifier =  0.014333333333333333\n",
      "[[1212    3    2]\n",
      " [   3 1477   17]\n",
      " [   0   18  268]]\n"
     ]
    }
   ],
   "source": [
    "from sklearn.tree import DecisionTreeClassifier\n",
    "\n",
    "dt = DecisionTreeClassifier()\n",
    "dt.fit(X_train, y_train)\n",
    "\n",
    "y_test_predict = dt.predict(X_test)\n",
    "err_test = np.mean(y_test  != y_test_predict)\n",
    "\n",
    "print(\"Error of DecisionTreeClassifier = \", err_test)\n",
    "print(confusion_matrix(y_test, y_test_predict))"
   ]
  },
  {
   "cell_type": "markdown",
   "id": "9da4a1b9-12a9-43f5-bbeb-2684f204e427",
   "metadata": {},
   "source": [
    "#### Метод опорных векторов:"
   ]
  },
  {
   "cell_type": "code",
   "execution_count": 26,
   "id": "69bfb557-bf4a-4b60-92f1-db41af620b9b",
   "metadata": {},
   "outputs": [
    {
     "name": "stdout",
     "output_type": "stream",
     "text": [
      "Error of SupportVectorMachines =  0.019333333333333334\n",
      "[[1209    8    0]\n",
      " [  38 1455    4]\n",
      " [   0    8  278]]\n"
     ]
    }
   ],
   "source": [
    "from sklearn.svm import SVC\n",
    "\n",
    "svc = SVC(kernel='linear')\n",
    "svc.fit(X_train, y_train)\n",
    "\n",
    "y_test_predict = svc.predict(X_test)\n",
    "err_test = np.mean(y_test  != y_test_predict)\n",
    "\n",
    "print(\"Error of SupportVectorMachines = \", err_test)\n",
    "print(confusion_matrix(y_test, y_test_predict))"
   ]
  },
  {
   "cell_type": "markdown",
   "id": "694c632c-f42b-4d65-8da0-199cdd50bd06",
   "metadata": {},
   "source": [
    "#### Избавление от несбалансированны классов:"
   ]
  },
  {
   "cell_type": "code",
   "execution_count": 27,
   "id": "c1643384-ef4c-4149-9b31-82522a1ac5a8",
   "metadata": {},
   "outputs": [
    {
     "data": {
      "text/plain": [
       "Text(0, 0.5, 'dec')"
      ]
     },
     "execution_count": 27,
     "metadata": {},
     "output_type": "execute_result"
    },
    {
     "data": {
      "image/png": "[encoded data removed]",
      "text/plain": [
       "<Figure size 432x288 with 1 Axes>"
      ]
     },
     "metadata": {
      "needs_background": "light"
     },
     "output_type": "display_data"
    }
   ],
   "source": [
    "# Несбалансированный признак \"dec\"\n",
    "plt.hist(data[\"dec\"], density = True)\n",
    "plt.ylabel(\"dec\")"
   ]
  },
  {
   "cell_type": "code",
   "execution_count": 59,
   "id": "9b28f5e7-9d59-41d4-81aa-0ab3bc2a5b84",
   "metadata": {},
   "outputs": [
    {
     "name": "stdout",
     "output_type": "stream",
     "text": [
      "Before OverSampling, counts of label '0': 2935\n",
      "Before OverSampling, counts of label '1': 3501\n",
      "Before OverSampling, counts of label '2': 564\n",
      "\n",
      "After OverSampling, counts of label '0': 3501\n",
      "After OverSampling, counts of label '1': 3501\n",
      "Before OverSampling, counts of label '2': 3501\n",
      "\n"
     ]
    }
   ],
   "source": [
    "from imblearn.over_sampling import SMOTE\n",
    "\n",
    "sm = SMOTE(random_state = 421)\n",
    "X_train_res, y_train_res = sm.fit_resample(X_train, y_train.ravel())\n",
    "\n",
    "print(\"Before OverSampling, counts of label '0': {}\".format(sum(y_train == 0)))\n",
    "print(\"Before OverSampling, counts of label '1': {}\".format(sum(y_train == 1)))\n",
    "print(\"Before OverSampling, counts of label '2': {}\\n\".format(sum(y_train == 2)))\n",
    "\n",
    "print(\"After OverSampling, counts of label '0': {}\".format(sum(y_train_res == 0)))\n",
    "print(\"After OverSampling, counts of label '1': {}\".format(sum(y_train_res == 1)))\n",
    "print(\"Before OverSampling, counts of label '2': {}\\n\".format(sum(y_train_res == 2)))"
   ]
  },
  {
   "cell_type": "code",
   "execution_count": 41,
   "id": "ce6efacc-b356-402a-9a06-20af8e28412b",
   "metadata": {},
   "outputs": [
    {
     "name": "stdout",
     "output_type": "stream",
     "text": [
      "Accuracy of KNeighborsClassifier =  0.9006666666666666\n",
      "Error of KNeighborsClassifier =  0.09933333333333333\n",
      "[[1047  160   10]\n",
      " [  93 1391   13]\n",
      " [   9   13  264]]\n"
     ]
    }
   ],
   "source": [
    "knn = KNeighborsClassifier(n_neighbors = 10)\n",
    "knn.fit(X_train_res, y_train_res)\n",
    "\n",
    "y_test_predict = knn.predict(X_test)\n",
    "knn_acc = knn.score(X_test,y_test)\n",
    "err_test = np.mean(y_test  != y_test_predict)\n",
    "\n",
    "print(\"Accuracy of KNeighborsClassifier = \", knn_acc)\n",
    "print(\"Error of KNeighborsClassifier = \", err_test)\n",
    "print(confusion_matrix(y_test, y_test_predict))"
   ]
  },
  {
   "cell_type": "markdown",
   "id": "c0327764-6191-48f9-bcf8-2c93dc805588",
   "metadata": {},
   "source": [
    "\n",
    "# Лабораторная работа 2"
   ]
  },
  {
   "cell_type": "markdown",
   "id": "ba2df738-018b-4333-ad19-ea53bdc4a00c",
   "metadata": {},
   "source": [
    "### Выбор оптимального количества нейронов:"
   ]
  },
  {
   "cell_type": "markdown",
   "id": "6e6d6cb8-f31b-49c7-a78d-7ab3d00fa763",
   "metadata": {},
   "source": [
    "#### Нейронная сеть с 1-м слоем:"
   ]
  },
  {
   "cell_type": "code",
   "execution_count": 42,
   "id": "1393e274-1234-4831-8bb6-3bd181ffbfa4",
   "metadata": {},
   "outputs": [],
   "source": [
    "from sklearn.neural_network import MLPClassifier\n",
    "\n",
    "hl_arr = np.arange(3, 50, 2)\n",
    "train_err = [] \n",
    "test_err = []\n",
    "\n",
    "for hl in hl_arr:\n",
    "    mlp_model = MLPClassifier(hidden_layer_sizes = (hl,),\n",
    "                          max_iter=1000,\n",
    "                          random_state = 421)\n",
    "    mlp_model.fit(X_train, y_train)\n",
    "    \n",
    "    y_train_pred = mlp_model.predict(X_train)\n",
    "    y_test_pred = mlp_model.predict(X_test)\n",
    "    \n",
    "    train_err.append(np.mean(y_train != y_train_pred))\n",
    "    test_err.append(np.mean(y_test != y_test_pred))"
   ]
  },
  {
   "cell_type": "code",
   "execution_count": 43,
   "id": "57535637-a1bd-482b-9f64-9dcc7f463636",
   "metadata": {},
   "outputs": [
    {
     "data": {
      "text/plain": [
       "<matplotlib.legend.Legend at 0x24760ee9d60>"
      ]
     },
     "execution_count": 43,
     "metadata": {},
     "output_type": "execute_result"
    },
    {
     "data": {
      "image/png": "[encoded data removed]",
      "text/plain": [
       "<Figure size 432x288 with 1 Axes>"
      ]
     },
     "metadata": {
      "needs_background": "light"
     },
     "output_type": "display_data"
    }
   ],
   "source": [
    "plt.plot(hl_arr, train_err, 'r-o', label = 'train')\n",
    "plt.plot(hl_arr, test_err, 'b-o', label = 'test')\n",
    "plt.title('Error vs Count of neurons')\n",
    "plt.xlabel('Count of neurons')\n",
    "plt.ylabel('Error')\n",
    "plt.legend()"
   ]
  },
  {
   "cell_type": "code",
   "execution_count": 44,
   "id": "b7a412ca-f123-42ba-a144-2e151d2b6652",
   "metadata": {},
   "outputs": [
    {
     "name": "stdout",
     "output_type": "stream",
     "text": [
      "0.004428571428571428 0.012666666666666666\n"
     ]
    }
   ],
   "source": [
    "min_train_err = np.min(train_err)\n",
    "min_test_err = np.min(test_err)\n",
    "print(min_train_err, min_test_err)"
   ]
  },
  {
   "cell_type": "markdown",
   "id": "e29eb565-a141-4bdf-95c2-171efcf419b2",
   "metadata": {
    "tags": []
   },
   "source": [
    "##### Оптимальное число нейронов для 1 слоя:"
   ]
  },
  {
   "cell_type": "code",
   "execution_count": 45,
   "id": "28ef2523-0e54-451f-9a7d-a8ac3a520d86",
   "metadata": {},
   "outputs": [
    {
     "name": "stdout",
     "output_type": "stream",
     "text": [
      "11\n"
     ]
    }
   ],
   "source": [
    "neu_opt_1 = hl_arr[test_err == min_test_err][0]\n",
    "print(neu_opt_1)"
   ]
  },
  {
   "cell_type": "markdown",
   "id": "0fb6b28b-cc29-4ea6-a3a2-230e8e219433",
   "metadata": {},
   "source": [
    "#### Нейронная сеть с 2-мя слоями:"
   ]
  },
  {
   "cell_type": "code",
   "execution_count": 46,
   "id": "87a95292-cf84-4f5c-a0da-78e7d36c4d62",
   "metadata": {},
   "outputs": [],
   "source": [
    "from sklearn.neural_network import MLPClassifier\n",
    "\n",
    "hl_arr = np.arange(1, 50, 2)\n",
    "train_err = []\n",
    "test_err = []\n",
    "\n",
    "for hl in hl_arr:\n",
    "    mlp_model = MLPClassifier(hidden_layer_sizes = (hl, neu_opt_1, ),\n",
    "                          max_iter=1000,\n",
    "                          random_state = 421)\n",
    "    mlp_model.fit(X_train, y_train)\n",
    "    \n",
    "    y_train_pred = mlp_model.predict(X_train)\n",
    "    y_test_pred = mlp_model.predict(X_test)\n",
    "    \n",
    "    train_err.append(np.mean(y_train != y_train_pred))\n",
    "    test_err.append(np.mean(y_test != y_test_pred))"
   ]
  },
  {
   "cell_type": "code",
   "execution_count": 47,
   "id": "fd9aea56-5248-455a-8f6f-39df2ace7f4f",
   "metadata": {},
   "outputs": [
    {
     "data": {
      "text/plain": [
       "<matplotlib.legend.Legend at 0x24760f3a700>"
      ]
     },
     "execution_count": 47,
     "metadata": {},
     "output_type": "execute_result"
    },
    {
     "data": {
      "image/png": "[encoded data removed]",
      "text/plain": [
       "<Figure size 432x288 with 1 Axes>"
      ]
     },
     "metadata": {
      "needs_background": "light"
     },
     "output_type": "display_data"
    }
   ],
   "source": [
    "plt.plot(hl_arr, train_err, 'r-o', label = 'train')\n",
    "plt.plot(hl_arr, test_err, 'b-o', label = 'test')\n",
    "plt.title('Error vs Count of neurons')\n",
    "plt.xlabel('Count of neurons')\n",
    "plt.ylabel('Error')\n",
    "plt.legend()"
   ]
  },
  {
   "cell_type": "code",
   "execution_count": 48,
   "id": "ee2b687b-1a3e-4e54-8120-8b3c4957abb9",
   "metadata": {},
   "outputs": [
    {
     "name": "stdout",
     "output_type": "stream",
     "text": [
      "0.0034285714285714284 0.012\n"
     ]
    }
   ],
   "source": [
    "min_train_err = np.min(train_err)\n",
    "min_test_err = np.min(test_err)\n",
    "print(min_train_err, min_test_err)"
   ]
  },
  {
   "cell_type": "markdown",
   "id": "672b51ec-22cc-4967-98c9-d6de66ef6d4a",
   "metadata": {
    "tags": []
   },
   "source": [
    "##### Оптимальное число нейронов для 2 слоя:"
   ]
  },
  {
   "cell_type": "code",
   "execution_count": 49,
   "id": "7db86873-5145-47c5-8d0b-7e336b9018e6",
   "metadata": {},
   "outputs": [
    {
     "name": "stdout",
     "output_type": "stream",
     "text": [
      "17\n"
     ]
    }
   ],
   "source": [
    "neu_opt_2 = hl_arr[test_err == min_test_err][0]\n",
    "print(neu_opt_2)"
   ]
  },
  {
   "cell_type": "markdown",
   "id": "c6877062-51a8-4a21-8e4c-796a9355bebd",
   "metadata": {},
   "source": [
    "### Подборка оптимального параметра alpha для нейронной сети с 2-мя слоями:"
   ]
  },
  {
   "cell_type": "code",
   "execution_count": 50,
   "id": "7b47091b-cda2-4de6-bd13-ccd263d15b27",
   "metadata": {},
   "outputs": [],
   "source": [
    "from sklearn.metrics import accuracy_score\n",
    "\n",
    "alpha_arr = np.logspace(-3, 2, 21)\n",
    "test_err = []\n",
    "train_err = []\n",
    "train_acc = []\n",
    "test_acc = []\n",
    "\n",
    "for alpha in alpha_arr:\n",
    "    mlp_model = MLPClassifier(alpha = alpha,\n",
    "                              hidden_layer_sizes = (neu_opt_2, neu_opt_1), \n",
    "                              max_iter=1000,\n",
    "                              random_state = 421)\n",
    "    mlp_model.fit(X_train, y_train)\n",
    "\n",
    "    y_train_pred = mlp_model.predict(X_train)\n",
    "    y_test_pred = mlp_model.predict(X_test)\n",
    "    \n",
    "    train_err.append(np.mean(y_train != y_train_pred))\n",
    "    test_err.append(np.mean(y_test != y_test_pred))\n",
    "    train_acc.append(accuracy_score(y_train, y_train_pred))\n",
    "    test_acc.append(accuracy_score(y_test, y_test_pred))"
   ]
  },
  {
   "cell_type": "markdown",
   "id": "f4057941-3815-4ae5-96c5-5e42578bb7b3",
   "metadata": {},
   "source": [
    "##### Зависимость ошибки от гиперпараметра:"
   ]
  },
  {
   "cell_type": "code",
   "execution_count": 51,
   "id": "dbc53368-1604-4e75-b1a7-7fe9335c2d08",
   "metadata": {},
   "outputs": [
    {
     "data": {
      "text/plain": [
       "<matplotlib.legend.Legend at 0x24760fbbf10>"
      ]
     },
     "execution_count": 51,
     "metadata": {},
     "output_type": "execute_result"
    },
    {
     "data": {
      "image/png": "[encoded data removed]",
      "text/plain": [
       "<Figure size 432x288 with 1 Axes>"
      ]
     },
     "metadata": {
      "needs_background": "light"
     },
     "output_type": "display_data"
    }
   ],
   "source": [
    "plt.semilogx(alpha_arr, train_err, 'b-o', label = 'train')\n",
    "plt.semilogx(alpha_arr, test_err, 'r-o', label = 'test')\n",
    "plt.xlim([np.min(alpha_arr), np.max(alpha_arr)])\n",
    "plt.title('error vs. alpha')\n",
    "plt.xlabel('alpha')\n",
    "plt.ylabel('error')\n",
    "plt.legend()"
   ]
  },
  {
   "cell_type": "markdown",
   "id": "c5e8618f-6014-4ecf-9cba-d1591b61b9f1",
   "metadata": {},
   "source": [
    "##### Зависимость метрики от гиперпараметра:"
   ]
  },
  {
   "cell_type": "code",
   "execution_count": 52,
   "id": "f1f96078-e15b-436e-bd83-b0c4a961680e",
   "metadata": {},
   "outputs": [
    {
     "data": {
      "text/plain": [
       "<matplotlib.legend.Legend at 0x24761215280>"
      ]
     },
     "execution_count": 52,
     "metadata": {},
     "output_type": "execute_result"
    },
    {
     "data": {
      "image/png": "[encoded data removed]",
      "text/plain": [
       "<Figure size 432x288 with 1 Axes>"
      ]
     },
     "metadata": {
      "needs_background": "light"
     },
     "output_type": "display_data"
    }
   ],
   "source": [
    "plt.semilogx(alpha_arr, train_acc, 'r-o', label = 'train')\n",
    "plt.semilogx(alpha_arr, test_acc, 'b-o', label = 'test')\n",
    "plt.xlim([np.min(alpha_arr), np.max(alpha_arr)])\n",
    "plt.title('Accuracy vs. alpha')\n",
    "plt.xlabel('alpha')\n",
    "plt.ylabel('Accuracy')\n",
    "plt.legend()"
   ]
  },
  {
   "cell_type": "code",
   "execution_count": 53,
   "id": "b769561f-d182-464f-9b71-31733e342dcc",
   "metadata": {},
   "outputs": [
    {
     "name": "stdout",
     "output_type": "stream",
     "text": [
      "0.005571428571428572 0.012\n"
     ]
    }
   ],
   "source": [
    "min_train_err = np.min(train_err)\n",
    "min_test_err = np.min(test_err)\n",
    "print(min_train_err, min_test_err)"
   ]
  },
  {
   "cell_type": "markdown",
   "id": "7e6e7d5e-92a4-426c-b910-b602ed9b25cf",
   "metadata": {},
   "source": [
    "##### Оптимальное значение alpha:"
   ]
  },
  {
   "cell_type": "code",
   "execution_count": 54,
   "id": "deeaa58f-0844-493d-a1b2-903b7ee69ef5",
   "metadata": {},
   "outputs": [
    {
     "name": "stdout",
     "output_type": "stream",
     "text": [
      "0.0017782794100389228\n"
     ]
    }
   ],
   "source": [
    "alpha_opt = alpha_arr[test_err == min_test_err][0]\n",
    "print(alpha_opt)"
   ]
  },
  {
   "cell_type": "markdown",
   "id": "a43995c5-d5cc-4888-b16b-77b257eecb1e",
   "metadata": {},
   "source": [
    "### Классификатор при найденных оптимальных значениях:"
   ]
  },
  {
   "cell_type": "code",
   "execution_count": 55,
   "id": "56546db4-9c06-4d58-bbea-541af5740a1d",
   "metadata": {},
   "outputs": [
    {
     "name": "stdout",
     "output_type": "stream",
     "text": [
      "0.005857142857142857\n",
      "0.012\n"
     ]
    }
   ],
   "source": [
    "    mlp_model = MLPClassifier(alpha = alpha_opt,\n",
    "                              hidden_layer_sizes = (neu_opt_2, neu_opt_1), \n",
    "                              max_iter=1000,\n",
    "                              random_state = 421)\n",
    "    mlp_model.fit(X_train, y_train)\n",
    "\n",
    "    y_train_pred = mlp_model.predict(X_train)\n",
    "    y_test_pred = mlp_model.predict(X_test)\n",
    "    print(np.mean(y_train != y_train_pred))\n",
    "    print(np.mean(y_test != y_test_pred))"
   ]
  },
  {
   "cell_type": "markdown",
   "id": "2233a18b-b369-44ee-a1f3-0a6f71cc8ddd",
   "metadata": {},
   "source": [
    "#### Матрица рассогласования:"
   ]
  },
  {
   "cell_type": "code",
   "execution_count": 56,
   "id": "d0bbc47c-6ed1-4a94-bfbc-92908f3fe6aa",
   "metadata": {},
   "outputs": [
    {
     "name": "stdout",
     "output_type": "stream",
     "text": [
      "[[1212   20    0]\n",
      " [   5 1474    8]\n",
      " [   0    3  278]]\n"
     ]
    }
   ],
   "source": [
    "from sklearn.metrics import confusion_matrix\n",
    "print(confusion_matrix(y_test_pred, y_test))"
   ]
  },
  {
   "cell_type": "code",
   "execution_count": 57,
   "id": "ea3dedb0-97b4-47ff-bf5c-c08e18e1c8bf",
   "metadata": {},
   "outputs": [
    {
     "data": {
      "image/png": "[encoded data removed]",
      "text/plain": [
       "<Figure size 432x288 with 2 Axes>"
      ]
     },
     "metadata": {
      "needs_background": "light"
     },
     "output_type": "display_data"
    }
   ],
   "source": [
    "M = confusion_matrix(y_test_pred, y_test)\n",
    "M = np.sqrt(M)\n",
    "plt.imshow(M, interpolation = 'nearest')\n",
    "plt.set_cmap('binary')\n",
    "plt.xticks(range(3))\n",
    "plt.yticks(range(3))\n",
    "plt.xlabel(\"true label\")\n",
    "plt.ylabel(\"predicted label\")\n",
    "plt.colorbar()\n",
    "pass"
   ]
  },
  {
   "cell_type": "markdown",
   "id": "5c0d6f7a-0153-49ca-8971-cb8ed538f00d",
   "metadata": {},
   "source": [
    "#### Другие метрики качества:"
   ]
  },
  {
   "cell_type": "code",
   "execution_count": 58,
   "id": "2cb05d0e-3e2d-4ddc-aa5d-24755837b1d6",
   "metadata": {},
   "outputs": [
    {
     "name": "stdout",
     "output_type": "stream",
     "text": [
      "              precision    recall  f1-score   support\n",
      "\n",
      "           0       0.98      1.00      0.99      1217\n",
      "           1       0.99      0.98      0.99      1497\n",
      "           2       0.99      0.97      0.98       286\n",
      "\n",
      "    accuracy                           0.99      3000\n",
      "   macro avg       0.99      0.98      0.99      3000\n",
      "weighted avg       0.99      0.99      0.99      3000\n",
      "\n"
     ]
    }
   ],
   "source": [
    "from sklearn.metrics import classification_report\n",
    "print(classification_report(y_test, y_test_pred))"
   ]
  },
  {
   "cell_type": "code",
   "execution_count": null,
   "id": "a1a31a6c-0b29-4513-bff0-c70ea162c110",
   "metadata": {},
   "outputs": [],
   "source": []
  }
 ],
 "metadata": {
  "kernelspec": {
   "display_name": "Python 3 (ipykernel)",
   "language": "python",
   "name": "python3"
  },
  "language_info": {
   "codemirror_mode": {
    "name": "ipython",
    "version": 3
   },
   "file_extension": ".py",
   "mimetype": "text/x-python",
   "name": "python",
   "nbconvert_exporter": "python",
   "pygments_lexer": "ipython3",
   "version": "3.9.7"
  }
 },
 "nbformat": 4,
 "nbformat_minor": 5
}
